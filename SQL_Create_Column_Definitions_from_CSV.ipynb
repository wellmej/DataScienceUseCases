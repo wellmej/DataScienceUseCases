{
  "cells": [
    {
      "cell_type": "markdown",
      "metadata": {
        "id": "view-in-github",
        "colab_type": "text"
      },
      "source": [
        "<a href=\"https://colab.research.google.com/github/wellmej/DataScienceUseCases/blob/main/SQL_Create_Column_Definitions_from_CSV.ipynb\" target=\"_parent\"><img src=\"https://colab.research.google.com/assets/colab-badge.svg\" alt=\"Open In Colab\"/></a>"
      ]
    },
    {
      "cell_type": "markdown",
      "metadata": {
        "id": "UPIkk51_IyTk"
      },
      "source": [
        "#### Working with CSV, JSON and EXCEL Files\n",
        "##### Pandas"
      ]
    },
    {
      "cell_type": "code",
      "execution_count": null,
      "metadata": {
        "id": "hf5YT0kVIyTp"
      },
      "outputs": [],
      "source": [
        "#--------------------------------------------\n",
        "# Import the Pandas libraries\n",
        "#--------------------------------------------\n",
        "import pandas as pd"
      ]
    },
    {
      "cell_type": "code",
      "source": [
        "# You will need to mount your drive using the following commands:\n",
        "# For more information regarding mounting, please check this out: https://stackoverflow.com/questions/46986398/import-data-into-google-colaboratory\n",
        "#\n",
        "#=============================================================*\n",
        "# Note: Only need to do this once per session.                *\n",
        "#       After executing, expand \"drive\" folder on left side.  *\n",
        "#=============================================================*\n",
        "from google.colab import drive\n",
        "drive.mount('/content/drive')"
      ],
      "metadata": {
        "id": "0pCgkG4ngJHx"
      },
      "execution_count": null,
      "outputs": []
    },
    {
      "cell_type": "code",
      "execution_count": null,
      "metadata": {
        "id": "7LDjPF22IyTr"
      },
      "outputs": [],
      "source": [
        "#------------------------------------------------\n",
        "# Set full file path names\n",
        "#------------------------------------------------\n",
        "#folder_name = 'C:/Users/jrwel/Documents/Udemy/Python Mega Course/Data/Supermarket/'\n",
        "folder_name = 'C:/Users/jrwel/Documents/Python Scripts/Data/'\n",
        "file_name = 'Database_Table_Definition_Info.txt'\n",
        "csv_in_file = folder_name + file_name\n",
        "\n",
        "out_file_name = 'Database Table Definition Info Output_ZSAssociates.sql'\n",
        "out_file = folder_name + out_file_name"
      ]
    },
    {
      "cell_type": "code",
      "execution_count": null,
      "metadata": {
        "id": "cOARwsJmIyTs",
        "outputId": "87e32159-419f-4097-c67a-4c17a123f2e1"
      },
      "outputs": [
        {
          "data": {
            "text/html": [
              "<div>\n",
              "<style scoped>\n",
              "    .dataframe tbody tr th:only-of-type {\n",
              "        vertical-align: middle;\n",
              "    }\n",
              "\n",
              "    .dataframe tbody tr th {\n",
              "        vertical-align: top;\n",
              "    }\n",
              "\n",
              "    .dataframe thead th {\n",
              "        text-align: right;\n",
              "    }\n",
              "</style>\n",
              "<table border=\"1\" class=\"dataframe\">\n",
              "  <thead>\n",
              "    <tr style=\"text-align: right;\">\n",
              "      <th></th>\n",
              "      <th>Column_Header</th>\n",
              "      <th>Column_Order</th>\n",
              "      <th>Length_of_Field</th>\n",
              "      <th>Type</th>\n",
              "    </tr>\n",
              "  </thead>\n",
              "  <tbody>\n",
              "    <tr>\n",
              "      <th>0</th>\n",
              "      <td>Employee SSN</td>\n",
              "      <td>7</td>\n",
              "      <td>9</td>\n",
              "      <td>V</td>\n",
              "    </tr>\n",
              "    <tr>\n",
              "      <th>1</th>\n",
              "      <td>Employee ID</td>\n",
              "      <td>8</td>\n",
              "      <td>50</td>\n",
              "      <td>V</td>\n",
              "    </tr>\n",
              "    <tr>\n",
              "      <th>2</th>\n",
              "      <td>Member SSN</td>\n",
              "      <td>9</td>\n",
              "      <td>9</td>\n",
              "      <td>V</td>\n",
              "    </tr>\n",
              "    <tr>\n",
              "      <th>3</th>\n",
              "      <td>Member First Name</td>\n",
              "      <td>10</td>\n",
              "      <td>50</td>\n",
              "      <td>V</td>\n",
              "    </tr>\n",
              "    <tr>\n",
              "      <th>4</th>\n",
              "      <td>Member Middle Name</td>\n",
              "      <td>11</td>\n",
              "      <td>50</td>\n",
              "      <td>V</td>\n",
              "    </tr>\n",
              "    <tr>\n",
              "      <th>5</th>\n",
              "      <td>Member Last Name</td>\n",
              "      <td>12</td>\n",
              "      <td>50</td>\n",
              "      <td>V</td>\n",
              "    </tr>\n",
              "    <tr>\n",
              "      <th>6</th>\n",
              "      <td>Name Suffix</td>\n",
              "      <td>13</td>\n",
              "      <td>25</td>\n",
              "      <td>V</td>\n",
              "    </tr>\n",
              "    <tr>\n",
              "      <th>7</th>\n",
              "      <td>Gender</td>\n",
              "      <td>14</td>\n",
              "      <td>1</td>\n",
              "      <td>V</td>\n",
              "    </tr>\n",
              "    <tr>\n",
              "      <th>8</th>\n",
              "      <td>DOB</td>\n",
              "      <td>15</td>\n",
              "      <td>10</td>\n",
              "      <td>V</td>\n",
              "    </tr>\n",
              "    <tr>\n",
              "      <th>9</th>\n",
              "      <td>Address Line 1</td>\n",
              "      <td>16</td>\n",
              "      <td>50</td>\n",
              "      <td>V</td>\n",
              "    </tr>\n",
              "  </tbody>\n",
              "</table>\n",
              "</div>"
            ],
            "text/plain": [
              "        Column_Header  Column_Order  Length_of_Field Type\n",
              "0        Employee SSN             7                9    V\n",
              "1         Employee ID             8               50    V\n",
              "2          Member SSN             9                9    V\n",
              "3   Member First Name            10               50    V\n",
              "4  Member Middle Name            11               50    V\n",
              "5    Member Last Name            12               50    V\n",
              "6         Name Suffix            13               25    V\n",
              "7              Gender            14                1    V\n",
              "8                 DOB            15               10    V\n",
              "9      Address Line 1            16               50    V"
            ]
          },
          "execution_count": 20,
          "metadata": {},
          "output_type": "execute_result"
        }
      ],
      "source": [
        "\n",
        "# Read .CSV file into a dataframe\n",
        "#------------------------------------------------\n",
        "df_database_info = pd.read_csv(csv_in_file)\n",
        "df_database_info.head(10)"
      ]
    },
    {
      "cell_type": "code",
      "execution_count": null,
      "metadata": {
        "id": "60dOBSo8IyTt"
      },
      "outputs": [],
      "source": [
        "#------------------------------------------------\n",
        "# Listing files in current directory\n",
        "#------------------------------------------------\n",
        "import os\n",
        "#os.listdir()"
      ]
    },
    {
      "cell_type": "code",
      "execution_count": null,
      "metadata": {
        "id": "_w4jsZaeIyTu"
      },
      "outputs": [],
      "source": [
        "sqlBegin = 'insert into DICE.dbo.DAT_FileFormat values ('\n",
        "sqlNULL = 'NULL'\n",
        "sqlDefFileFormatId = '@DefFileFormatId'\n",
        "sqlDefFileRowLayoutId = '@DefFileRowLayoutId'\n",
        "sqlZero = '0'\n",
        "sqlEnd = ')'\n",
        "i = 0"
      ]
    },
    {
      "cell_type": "code",
      "execution_count": null,
      "metadata": {
        "id": "J-tWXykFIyTv"
      },
      "outputs": [],
      "source": [
        "for ind, row in df_database_info.iterrows():\n",
        "    df_database_info.loc[ind, \"New_SQL\"] = sqlBegin + sqlDefFileFormatId + ',' + \"'\" + row['Column_Header'] + \"'\" + ',' + str(row['Length_of_Field']) + ',' + str(row['Column_Order']) + ',' + sqlZero + ',' + \"'\" + row['Column_Header'] + \"'\" + ',' + sqlZero + ',' + sqlDefFileRowLayoutId + ',' + sqlZero + ',' + sqlNULL + sqlEnd"
      ]
    },
    {
      "cell_type": "code",
      "execution_count": null,
      "metadata": {
        "id": "hGcrIka9IyTv",
        "outputId": "12f17a20-3595-4f77-be0c-484c18093e91"
      },
      "outputs": [
        {
          "name": "stdout",
          "output_type": "stream",
          "text": [
            "insert into DICE.dbo.DAT_FileFormat values (@DefFileFormatId,'Employee SSN',9,7,0,'Employee SSN',0,@DefFileRowLayoutId,0,NULL)\n",
            "insert into DICE.dbo.DAT_FileFormat values (@DefFileFormatId,'Employee ID',50,8,0,'Employee ID',0,@DefFileRowLayoutId,0,NULL)\n",
            "insert into DICE.dbo.DAT_FileFormat values (@DefFileFormatId,'Member SSN',9,9,0,'Member SSN',0,@DefFileRowLayoutId,0,NULL)\n",
            "insert into DICE.dbo.DAT_FileFormat values (@DefFileFormatId,'Member First Name',50,10,0,'Member First Name',0,@DefFileRowLayoutId,0,NULL)\n",
            "insert into DICE.dbo.DAT_FileFormat values (@DefFileFormatId,'Member Middle Name',50,11,0,'Member Middle Name',0,@DefFileRowLayoutId,0,NULL)\n",
            "insert into DICE.dbo.DAT_FileFormat values (@DefFileFormatId,'Member Last Name',50,12,0,'Member Last Name',0,@DefFileRowLayoutId,0,NULL)\n",
            "insert into DICE.dbo.DAT_FileFormat values (@DefFileFormatId,'Name Suffix',25,13,0,'Name Suffix',0,@DefFileRowLayoutId,0,NULL)\n",
            "insert into DICE.dbo.DAT_FileFormat values (@DefFileFormatId,'Gender',1,14,0,'Gender',0,@DefFileRowLayoutId,0,NULL)\n",
            "insert into DICE.dbo.DAT_FileFormat values (@DefFileFormatId,'DOB',10,15,0,'DOB',0,@DefFileRowLayoutId,0,NULL)\n",
            "insert into DICE.dbo.DAT_FileFormat values (@DefFileFormatId,'Address Line 1',50,16,0,'Address Line 1',0,@DefFileRowLayoutId,0,NULL)\n",
            "insert into DICE.dbo.DAT_FileFormat values (@DefFileFormatId,'Address Line 2',50,17,0,'Address Line 2',0,@DefFileRowLayoutId,0,NULL)\n",
            "insert into DICE.dbo.DAT_FileFormat values (@DefFileFormatId,'City',50,18,0,'City',0,@DefFileRowLayoutId,0,NULL)\n",
            "insert into DICE.dbo.DAT_FileFormat values (@DefFileFormatId,'State',50,19,0,'State',0,@DefFileRowLayoutId,0,NULL)\n",
            "insert into DICE.dbo.DAT_FileFormat values (@DefFileFormatId,'Zip',10,20,0,'Zip',0,@DefFileRowLayoutId,0,NULL)\n",
            "insert into DICE.dbo.DAT_FileFormat values (@DefFileFormatId,'Home phone',15,21,0,'Home phone',0,@DefFileRowLayoutId,0,NULL)\n",
            "insert into DICE.dbo.DAT_FileFormat values (@DefFileFormatId,'Work phone',15,22,0,'Work phone',0,@DefFileRowLayoutId,0,NULL)\n",
            "insert into DICE.dbo.DAT_FileFormat values (@DefFileFormatId,'Cell phone',15,23,0,'Cell phone',0,@DefFileRowLayoutId,0,NULL)\n",
            "insert into DICE.dbo.DAT_FileFormat values (@DefFileFormatId,'Email',150,24,0,'Email',0,@DefFileRowLayoutId,0,NULL)\n",
            "insert into DICE.dbo.DAT_FileFormat values (@DefFileFormatId,'Member Relationship',15,25,0,'Member Relationship',0,@DefFileRowLayoutId,0,NULL)\n",
            "insert into DICE.dbo.DAT_FileFormat values (@DefFileFormatId,'Product Type',25,26,0,'Product Type',0,@DefFileRowLayoutId,0,NULL)\n",
            "insert into DICE.dbo.DAT_FileFormat values (@DefFileFormatId,'Vendor for Product',250,27,0,'Vendor for Product',0,@DefFileRowLayoutId,0,NULL)\n",
            "insert into DICE.dbo.DAT_FileFormat values (@DefFileFormatId,'Plan Name',100,28,0,'Plan Name',0,@DefFileRowLayoutId,0,NULL)\n",
            "insert into DICE.dbo.DAT_FileFormat values (@DefFileFormatId,'Eligibility Status',30,29,0,'Eligibility Status',0,@DefFileRowLayoutId,0,NULL)\n",
            "insert into DICE.dbo.DAT_FileFormat values (@DefFileFormatId,'Product Coverage',50,30,0,'Product Coverage',0,@DefFileRowLayoutId,0,NULL)\n",
            "insert into DICE.dbo.DAT_FileFormat values (@DefFileFormatId,'Hire Date',10,31,0,'Hire Date',0,@DefFileRowLayoutId,0,NULL)\n",
            "insert into DICE.dbo.DAT_FileFormat values (@DefFileFormatId,'Product Eff Date',10,32,0,'Product Eff Date',0,@DefFileRowLayoutId,0,NULL)\n",
            "insert into DICE.dbo.DAT_FileFormat values (@DefFileFormatId,'Product Term Date',10,33,0,'Product Term Date',0,@DefFileRowLayoutId,0,NULL)\n"
          ]
        }
      ],
      "source": [
        "f = open(out_file, 'w')\n",
        "for ind, row in df_database_info.iterrows():\n",
        "    if i > len(df_database_info):\n",
        "       break\n",
        "    else:\n",
        "#       f = open(str(i)+'.txt', 'w')\n",
        "       f.write(row['New_SQL'] + '\\n')\n",
        "       print (row['New_SQL']) \n",
        "       i+=1\n",
        "#\n",
        "#\n",
        "f.close()"
      ]
    },
    {
      "cell_type": "code",
      "execution_count": null,
      "metadata": {
        "id": "68PaVewVIyTw"
      },
      "outputs": [],
      "source": [
        "#for index, row in p.iterrows():\n",
        "#    if i > len(p):\n",
        "#       break\n",
        "#    else:\n",
        "#       f = open(str(i)+'.txt', 'w')\n",
        "#       f.write(row[0])\n",
        "#       f.close()\n",
        "#       i+=1"
      ]
    },
    {
      "cell_type": "code",
      "execution_count": null,
      "metadata": {
        "id": "hM-tEp-1IyTx",
        "outputId": "2faf3387-1756-4e99-c9c1-61c63dd9f6df"
      },
      "outputs": [
        {
          "data": {
            "text/html": [
              "<div>\n",
              "<style scoped>\n",
              "    .dataframe tbody tr th:only-of-type {\n",
              "        vertical-align: middle;\n",
              "    }\n",
              "\n",
              "    .dataframe tbody tr th {\n",
              "        vertical-align: top;\n",
              "    }\n",
              "\n",
              "    .dataframe thead th {\n",
              "        text-align: right;\n",
              "    }\n",
              "</style>\n",
              "<table border=\"1\" class=\"dataframe\">\n",
              "  <thead>\n",
              "    <tr style=\"text-align: right;\">\n",
              "      <th></th>\n",
              "      <th>Column_Header</th>\n",
              "      <th>Column_Order</th>\n",
              "      <th>Length_of_Field</th>\n",
              "      <th>Type</th>\n",
              "      <th>New_SQL</th>\n",
              "    </tr>\n",
              "  </thead>\n",
              "  <tbody>\n",
              "    <tr>\n",
              "      <th>0</th>\n",
              "      <td>Employee SSN</td>\n",
              "      <td>7</td>\n",
              "      <td>9</td>\n",
              "      <td>V</td>\n",
              "      <td>insert into DICE.dbo.DAT_FileFormat values (@D...</td>\n",
              "    </tr>\n",
              "    <tr>\n",
              "      <th>1</th>\n",
              "      <td>Employee ID</td>\n",
              "      <td>8</td>\n",
              "      <td>50</td>\n",
              "      <td>V</td>\n",
              "      <td>insert into DICE.dbo.DAT_FileFormat values (@D...</td>\n",
              "    </tr>\n",
              "    <tr>\n",
              "      <th>2</th>\n",
              "      <td>Member SSN</td>\n",
              "      <td>9</td>\n",
              "      <td>9</td>\n",
              "      <td>V</td>\n",
              "      <td>insert into DICE.dbo.DAT_FileFormat values (@D...</td>\n",
              "    </tr>\n",
              "    <tr>\n",
              "      <th>3</th>\n",
              "      <td>Member First Name</td>\n",
              "      <td>10</td>\n",
              "      <td>50</td>\n",
              "      <td>V</td>\n",
              "      <td>insert into DICE.dbo.DAT_FileFormat values (@D...</td>\n",
              "    </tr>\n",
              "    <tr>\n",
              "      <th>4</th>\n",
              "      <td>Member Middle Name</td>\n",
              "      <td>11</td>\n",
              "      <td>50</td>\n",
              "      <td>V</td>\n",
              "      <td>insert into DICE.dbo.DAT_FileFormat values (@D...</td>\n",
              "    </tr>\n",
              "    <tr>\n",
              "      <th>5</th>\n",
              "      <td>Member Last Name</td>\n",
              "      <td>12</td>\n",
              "      <td>50</td>\n",
              "      <td>V</td>\n",
              "      <td>insert into DICE.dbo.DAT_FileFormat values (@D...</td>\n",
              "    </tr>\n",
              "    <tr>\n",
              "      <th>6</th>\n",
              "      <td>Name Suffix</td>\n",
              "      <td>13</td>\n",
              "      <td>25</td>\n",
              "      <td>V</td>\n",
              "      <td>insert into DICE.dbo.DAT_FileFormat values (@D...</td>\n",
              "    </tr>\n",
              "    <tr>\n",
              "      <th>7</th>\n",
              "      <td>Gender</td>\n",
              "      <td>14</td>\n",
              "      <td>1</td>\n",
              "      <td>V</td>\n",
              "      <td>insert into DICE.dbo.DAT_FileFormat values (@D...</td>\n",
              "    </tr>\n",
              "    <tr>\n",
              "      <th>8</th>\n",
              "      <td>DOB</td>\n",
              "      <td>15</td>\n",
              "      <td>10</td>\n",
              "      <td>V</td>\n",
              "      <td>insert into DICE.dbo.DAT_FileFormat values (@D...</td>\n",
              "    </tr>\n",
              "    <tr>\n",
              "      <th>9</th>\n",
              "      <td>Address Line 1</td>\n",
              "      <td>16</td>\n",
              "      <td>50</td>\n",
              "      <td>V</td>\n",
              "      <td>insert into DICE.dbo.DAT_FileFormat values (@D...</td>\n",
              "    </tr>\n",
              "    <tr>\n",
              "      <th>10</th>\n",
              "      <td>Address Line 2</td>\n",
              "      <td>17</td>\n",
              "      <td>50</td>\n",
              "      <td>V</td>\n",
              "      <td>insert into DICE.dbo.DAT_FileFormat values (@D...</td>\n",
              "    </tr>\n",
              "    <tr>\n",
              "      <th>11</th>\n",
              "      <td>City</td>\n",
              "      <td>18</td>\n",
              "      <td>50</td>\n",
              "      <td>V</td>\n",
              "      <td>insert into DICE.dbo.DAT_FileFormat values (@D...</td>\n",
              "    </tr>\n",
              "    <tr>\n",
              "      <th>12</th>\n",
              "      <td>State</td>\n",
              "      <td>19</td>\n",
              "      <td>50</td>\n",
              "      <td>V</td>\n",
              "      <td>insert into DICE.dbo.DAT_FileFormat values (@D...</td>\n",
              "    </tr>\n",
              "    <tr>\n",
              "      <th>13</th>\n",
              "      <td>Zip</td>\n",
              "      <td>20</td>\n",
              "      <td>10</td>\n",
              "      <td>V</td>\n",
              "      <td>insert into DICE.dbo.DAT_FileFormat values (@D...</td>\n",
              "    </tr>\n",
              "    <tr>\n",
              "      <th>14</th>\n",
              "      <td>Home phone</td>\n",
              "      <td>21</td>\n",
              "      <td>15</td>\n",
              "      <td>V</td>\n",
              "      <td>insert into DICE.dbo.DAT_FileFormat values (@D...</td>\n",
              "    </tr>\n",
              "    <tr>\n",
              "      <th>15</th>\n",
              "      <td>Work phone</td>\n",
              "      <td>22</td>\n",
              "      <td>15</td>\n",
              "      <td>V</td>\n",
              "      <td>insert into DICE.dbo.DAT_FileFormat values (@D...</td>\n",
              "    </tr>\n",
              "    <tr>\n",
              "      <th>16</th>\n",
              "      <td>Cell phone</td>\n",
              "      <td>23</td>\n",
              "      <td>15</td>\n",
              "      <td>V</td>\n",
              "      <td>insert into DICE.dbo.DAT_FileFormat values (@D...</td>\n",
              "    </tr>\n",
              "    <tr>\n",
              "      <th>17</th>\n",
              "      <td>Email</td>\n",
              "      <td>24</td>\n",
              "      <td>150</td>\n",
              "      <td>V</td>\n",
              "      <td>insert into DICE.dbo.DAT_FileFormat values (@D...</td>\n",
              "    </tr>\n",
              "    <tr>\n",
              "      <th>18</th>\n",
              "      <td>Member Relationship</td>\n",
              "      <td>25</td>\n",
              "      <td>15</td>\n",
              "      <td>V</td>\n",
              "      <td>insert into DICE.dbo.DAT_FileFormat values (@D...</td>\n",
              "    </tr>\n",
              "    <tr>\n",
              "      <th>19</th>\n",
              "      <td>Product Type</td>\n",
              "      <td>26</td>\n",
              "      <td>25</td>\n",
              "      <td>V</td>\n",
              "      <td>insert into DICE.dbo.DAT_FileFormat values (@D...</td>\n",
              "    </tr>\n",
              "  </tbody>\n",
              "</table>\n",
              "</div>"
            ],
            "text/plain": [
              "          Column_Header  Column_Order  Length_of_Field Type  \\\n",
              "0          Employee SSN             7                9    V   \n",
              "1           Employee ID             8               50    V   \n",
              "2            Member SSN             9                9    V   \n",
              "3     Member First Name            10               50    V   \n",
              "4    Member Middle Name            11               50    V   \n",
              "5      Member Last Name            12               50    V   \n",
              "6           Name Suffix            13               25    V   \n",
              "7                Gender            14                1    V   \n",
              "8                   DOB            15               10    V   \n",
              "9        Address Line 1            16               50    V   \n",
              "10       Address Line 2            17               50    V   \n",
              "11                 City            18               50    V   \n",
              "12                State            19               50    V   \n",
              "13                  Zip            20               10    V   \n",
              "14           Home phone            21               15    V   \n",
              "15           Work phone            22               15    V   \n",
              "16           Cell phone            23               15    V   \n",
              "17                Email            24              150    V   \n",
              "18  Member Relationship            25               15    V   \n",
              "19         Product Type            26               25    V   \n",
              "\n",
              "                                              New_SQL  \n",
              "0   insert into DICE.dbo.DAT_FileFormat values (@D...  \n",
              "1   insert into DICE.dbo.DAT_FileFormat values (@D...  \n",
              "2   insert into DICE.dbo.DAT_FileFormat values (@D...  \n",
              "3   insert into DICE.dbo.DAT_FileFormat values (@D...  \n",
              "4   insert into DICE.dbo.DAT_FileFormat values (@D...  \n",
              "5   insert into DICE.dbo.DAT_FileFormat values (@D...  \n",
              "6   insert into DICE.dbo.DAT_FileFormat values (@D...  \n",
              "7   insert into DICE.dbo.DAT_FileFormat values (@D...  \n",
              "8   insert into DICE.dbo.DAT_FileFormat values (@D...  \n",
              "9   insert into DICE.dbo.DAT_FileFormat values (@D...  \n",
              "10  insert into DICE.dbo.DAT_FileFormat values (@D...  \n",
              "11  insert into DICE.dbo.DAT_FileFormat values (@D...  \n",
              "12  insert into DICE.dbo.DAT_FileFormat values (@D...  \n",
              "13  insert into DICE.dbo.DAT_FileFormat values (@D...  \n",
              "14  insert into DICE.dbo.DAT_FileFormat values (@D...  \n",
              "15  insert into DICE.dbo.DAT_FileFormat values (@D...  \n",
              "16  insert into DICE.dbo.DAT_FileFormat values (@D...  \n",
              "17  insert into DICE.dbo.DAT_FileFormat values (@D...  \n",
              "18  insert into DICE.dbo.DAT_FileFormat values (@D...  \n",
              "19  insert into DICE.dbo.DAT_FileFormat values (@D...  "
            ]
          },
          "execution_count": 26,
          "metadata": {},
          "output_type": "execute_result"
        }
      ],
      "source": [
        "df_database_info.head(20)"
      ]
    },
    {
      "cell_type": "code",
      "execution_count": null,
      "metadata": {
        "id": "OW6sF-BVIyTx"
      },
      "outputs": [],
      "source": [
        "##\n",
        "##  END HERE\n",
        "##"
      ]
    },
    {
      "cell_type": "code",
      "execution_count": null,
      "metadata": {
        "id": "-h-dEux8IyTy"
      },
      "outputs": [],
      "source": [
        ""
      ]
    },
    {
      "cell_type": "code",
      "execution_count": null,
      "metadata": {
        "id": "WOqv6-WwIyTy",
        "outputId": "e1adb549-4bc6-47dd-9198-2b0fe4608c02"
      },
      "outputs": [
        {
          "ename": "SyntaxError",
          "evalue": "invalid syntax (<ipython-input-28-d787c8f21e98>, line 41)",
          "output_type": "error",
          "traceback": [
            "\u001b[1;36m  File \u001b[1;32m\"<ipython-input-28-d787c8f21e98>\"\u001b[1;36m, line \u001b[1;32m41\u001b[0m\n\u001b[1;33m    row_new.append(result.hexdigest())\u001b[0m\n\u001b[1;37m    ^\u001b[0m\n\u001b[1;31mSyntaxError\u001b[0m\u001b[1;31m:\u001b[0m invalid syntax\n"
          ]
        }
      ],
      "source": [
        "#----------------------------------------------------------------\n",
        "# 1. Open Output CSV file to write Policy and Hashed data to. Set newline to null to avoid writing blank lines.\n",
        "# 2. Read thru CSV inpiut file for each row\n",
        "# 3. For each row, Hash the policy number, and capture last\n",
        "#    8 characters of the hashed result\n",
        "# 4. Write CSV output file for each new row with:\n",
        "#    a. Input Policy Number\n",
        "#    b. Hash SHA224 Result of Policy Number\n",
        "#    c. Last 8 characters of Hash result (Activation Code)\n",
        "#----------------------------------------------------------------\n",
        "\n",
        "with open(out_file, mode='w', newline='') as hash_file_out:\n",
        "      hash_file = csv.writer(hash_file_out, delimiter=',', quotechar='\"', quoting=csv.QUOTE_MINIMAL)\n",
        "        \n",
        "      policy_in = open(csv_in_file)\n",
        "      policy_in_csv = csv.reader(policy_in)\n",
        "      row_index = 0\n",
        "\n",
        "#----------------------------------------------------------------\n",
        "# For each input row, read the Policy_Number, hash it using\n",
        "# SHA224 alogrithm, capture last 8 characters of the hash, and\n",
        "# write Policy_Number, Full Hash, and Last 8 Hash to new\n",
        "# output CSV file.\n",
        "#----------------------------------------------------------------\n",
        "      for row in policy_in_csv:\n",
        "        print (row[row_index])\n",
        "        row_new = row\n",
        "        display_policy_number = row[row_index]\n",
        "        policy_number = display_policy_number[0:10]\n",
        "#\n",
        "# encoding <Policy_number> using encode() \n",
        "# then sending to SHA224() \n",
        "#        result = hashlib.sha224(policy_number.encode()) \n",
        "  \n",
        "# printing the equivalent hexadecimal value. \n",
        "#        print(\"The hexadecimal equivalent of SHA224 is : \")  \n",
        "#        print(result.hexdigest()) \n",
        "\n",
        "#        row_new.append(result.hexdigest()[48:] + \"-jrw\")\n",
        "        row_new.append(''        \n",
        "        row_new.append(result.hexdigest())\n",
        "        row_new.append(policy_number)\n",
        "        \n",
        "        print (row_new)\n",
        "               \n",
        "#----------------------------------------------------------------\n",
        "#      Write out new CSV row\n",
        "#----------------------------------------------------------------\n",
        "        hash_file.writerow(row_new)\n",
        "    \n",
        "        print (\"\\r\") \n",
        "#\n",
        "# End\n",
        "#"
      ]
    },
    {
      "cell_type": "code",
      "execution_count": null,
      "metadata": {
        "id": "9gZUnpSgIyTz"
      },
      "outputs": [],
      "source": [
        ""
      ]
    },
    {
      "cell_type": "code",
      "execution_count": null,
      "metadata": {
        "id": "gu4F4qlqIyTz"
      },
      "outputs": [],
      "source": [
        ""
      ]
    },
    {
      "cell_type": "code",
      "execution_count": null,
      "metadata": {
        "id": "ate5Sf90IyTz"
      },
      "outputs": [],
      "source": [
        ""
      ]
    }
  ],
  "metadata": {
    "kernelspec": {
      "display_name": "Python 3",
      "language": "python",
      "name": "python3"
    },
    "language_info": {
      "codemirror_mode": {
        "name": "ipython",
        "version": 3
      },
      "file_extension": ".py",
      "mimetype": "text/x-python",
      "name": "python",
      "nbconvert_exporter": "python",
      "pygments_lexer": "ipython3",
      "version": "3.8.3"
    },
    "colab": {
      "name": "SQL_Create_Column_Definitions_from_CSV.ipynb",
      "provenance": [],
      "include_colab_link": true
    }
  },
  "nbformat": 4,
  "nbformat_minor": 0
}