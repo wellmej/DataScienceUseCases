{
  "cells": [
    {
      "cell_type": "markdown",
      "metadata": {
        "id": "view-in-github",
        "colab_type": "text"
      },
      "source": [
        "<a href=\"https://colab.research.google.com/github/wellmej/DataScienceUseCases/blob/main/SQL_Create_Table_from_CSV.ipynb\" target=\"_parent\"><img src=\"https://colab.research.google.com/assets/colab-badge.svg\" alt=\"Open In Colab\"/></a>"
      ]
    },
    {
      "cell_type": "markdown",
      "metadata": {
        "id": "7L2WYflQIK7V"
      },
      "source": [
        "#### Working with CSV, JSON and EXCEL Files\n",
        "##### Pandas"
      ]
    },
    {
      "cell_type": "code",
      "execution_count": null,
      "metadata": {
        "id": "Gs74bbf6IK7Y"
      },
      "outputs": [],
      "source": [
        "#--------------------------------------------\n",
        "# Import the Pandas libraries\n",
        "#--------------------------------------------\n",
        "import pandas as pd"
      ]
    },
    {
      "cell_type": "code",
      "source": [
        "# You will need to mount your drive using the following commands:\n",
        "# For more information regarding mounting, please check this out: https://stackoverflow.com/questions/46986398/import-data-into-google-colaboratory\n",
        "\n",
        "from google.colab import drive\n",
        "drive.mount('/content/drive')"
      ],
      "metadata": {
        "id": "at_qJDvpYa2Q",
        "outputId": "8d270188-86af-4a09-d68b-25daf5400822",
        "colab": {
          "base_uri": "https://localhost:8080/"
        }
      },
      "execution_count": 12,
      "outputs": [
        {
          "output_type": "stream",
          "name": "stdout",
          "text": [
            "Mounted at /content/drive\n"
          ]
        }
      ]
    },
    {
      "cell_type": "code",
      "execution_count": 13,
      "metadata": {
        "id": "xVjAI13MIK7Z"
      },
      "outputs": [],
      "source": [
        "#------------------------------------------------\n",
        "# Set full file path names\n",
        "#------------------------------------------------\n",
        "#folder_name = 'C:/Users/jrwel/Documents/Udemy/Python Mega Course/Data/Supermarket/'\n",
        "folder_name = 'C:/Users/jack.wellmerling/Documents/MyDocs/PythonScriptData/WorkDirectory/'\n",
        "file_name = 'Database_Table_Definition_Info.txt'\n",
        "table_name = 'LexisNexisAddressLocationExtract'\n",
        "csv_in_file = folder_name + file_name\n",
        "\n",
        "out_file_name = 'Database Table Create Output.sql'\n",
        "out_file = folder_name + out_file_name"
      ]
    },
    {
      "cell_type": "code",
      "execution_count": 14,
      "metadata": {
        "id": "TSgvPNqhIK7a",
        "outputId": "8fb06b31-2dbb-4ae1-f54b-6e4f7d160b4e",
        "colab": {
          "base_uri": "https://localhost:8080/",
          "height": 387
        }
      },
      "outputs": [
        {
          "output_type": "error",
          "ename": "FileNotFoundError",
          "evalue": "ignored",
          "traceback": [
            "\u001b[0;31m---------------------------------------------------------------------------\u001b[0m",
            "\u001b[0;31mFileNotFoundError\u001b[0m                         Traceback (most recent call last)",
            "\u001b[0;32m<ipython-input-14-ae46368d293e>\u001b[0m in \u001b[0;36m<module>\u001b[0;34m()\u001b[0m\n\u001b[1;32m      3\u001b[0m \u001b[0;31m#------------------------------------------------\u001b[0m\u001b[0;34m\u001b[0m\u001b[0;34m\u001b[0m\u001b[0;34m\u001b[0m\u001b[0m\n\u001b[1;32m      4\u001b[0m \u001b[0;31m#df_database_info = pd.read_csv(csv_in_file, encoding = \"latin1\" )\u001b[0m\u001b[0;34m\u001b[0m\u001b[0;34m\u001b[0m\u001b[0;34m\u001b[0m\u001b[0m\n\u001b[0;32m----> 5\u001b[0;31m \u001b[0mdf_database_info\u001b[0m \u001b[0;34m=\u001b[0m \u001b[0mpd\u001b[0m\u001b[0;34m.\u001b[0m\u001b[0mread_csv\u001b[0m\u001b[0;34m(\u001b[0m\u001b[0mcsv_in_file\u001b[0m \u001b[0;34m)\u001b[0m\u001b[0;34m\u001b[0m\u001b[0;34m\u001b[0m\u001b[0m\n\u001b[0m\u001b[1;32m      6\u001b[0m \u001b[0mdf_database_info\u001b[0m\u001b[0;34m.\u001b[0m\u001b[0mhead\u001b[0m\u001b[0;34m(\u001b[0m\u001b[0;36m10\u001b[0m\u001b[0;34m)\u001b[0m\u001b[0;34m\u001b[0m\u001b[0;34m\u001b[0m\u001b[0m\n",
            "\u001b[0;32m/usr/local/lib/python3.7/dist-packages/pandas/util/_decorators.py\u001b[0m in \u001b[0;36mwrapper\u001b[0;34m(*args, **kwargs)\u001b[0m\n\u001b[1;32m    309\u001b[0m                     \u001b[0mstacklevel\u001b[0m\u001b[0;34m=\u001b[0m\u001b[0mstacklevel\u001b[0m\u001b[0;34m,\u001b[0m\u001b[0;34m\u001b[0m\u001b[0;34m\u001b[0m\u001b[0m\n\u001b[1;32m    310\u001b[0m                 )\n\u001b[0;32m--> 311\u001b[0;31m             \u001b[0;32mreturn\u001b[0m \u001b[0mfunc\u001b[0m\u001b[0;34m(\u001b[0m\u001b[0;34m*\u001b[0m\u001b[0margs\u001b[0m\u001b[0;34m,\u001b[0m \u001b[0;34m**\u001b[0m\u001b[0mkwargs\u001b[0m\u001b[0;34m)\u001b[0m\u001b[0;34m\u001b[0m\u001b[0;34m\u001b[0m\u001b[0m\n\u001b[0m\u001b[1;32m    312\u001b[0m \u001b[0;34m\u001b[0m\u001b[0m\n\u001b[1;32m    313\u001b[0m         \u001b[0;32mreturn\u001b[0m \u001b[0mwrapper\u001b[0m\u001b[0;34m\u001b[0m\u001b[0;34m\u001b[0m\u001b[0m\n",
            "\u001b[0;32m/usr/local/lib/python3.7/dist-packages/pandas/io/parsers/readers.py\u001b[0m in \u001b[0;36mread_csv\u001b[0;34m(filepath_or_buffer, sep, delimiter, header, names, index_col, usecols, squeeze, prefix, mangle_dupe_cols, dtype, engine, converters, true_values, false_values, skipinitialspace, skiprows, skipfooter, nrows, na_values, keep_default_na, na_filter, verbose, skip_blank_lines, parse_dates, infer_datetime_format, keep_date_col, date_parser, dayfirst, cache_dates, iterator, chunksize, compression, thousands, decimal, lineterminator, quotechar, quoting, doublequote, escapechar, comment, encoding, encoding_errors, dialect, error_bad_lines, warn_bad_lines, on_bad_lines, delim_whitespace, low_memory, memory_map, float_precision, storage_options)\u001b[0m\n\u001b[1;32m    584\u001b[0m     \u001b[0mkwds\u001b[0m\u001b[0;34m.\u001b[0m\u001b[0mupdate\u001b[0m\u001b[0;34m(\u001b[0m\u001b[0mkwds_defaults\u001b[0m\u001b[0;34m)\u001b[0m\u001b[0;34m\u001b[0m\u001b[0;34m\u001b[0m\u001b[0m\n\u001b[1;32m    585\u001b[0m \u001b[0;34m\u001b[0m\u001b[0m\n\u001b[0;32m--> 586\u001b[0;31m     \u001b[0;32mreturn\u001b[0m \u001b[0m_read\u001b[0m\u001b[0;34m(\u001b[0m\u001b[0mfilepath_or_buffer\u001b[0m\u001b[0;34m,\u001b[0m \u001b[0mkwds\u001b[0m\u001b[0;34m)\u001b[0m\u001b[0;34m\u001b[0m\u001b[0;34m\u001b[0m\u001b[0m\n\u001b[0m\u001b[1;32m    587\u001b[0m \u001b[0;34m\u001b[0m\u001b[0m\n\u001b[1;32m    588\u001b[0m \u001b[0;34m\u001b[0m\u001b[0m\n",
            "\u001b[0;32m/usr/local/lib/python3.7/dist-packages/pandas/io/parsers/readers.py\u001b[0m in \u001b[0;36m_read\u001b[0;34m(filepath_or_buffer, kwds)\u001b[0m\n\u001b[1;32m    480\u001b[0m \u001b[0;34m\u001b[0m\u001b[0m\n\u001b[1;32m    481\u001b[0m     \u001b[0;31m# Create the parser.\u001b[0m\u001b[0;34m\u001b[0m\u001b[0;34m\u001b[0m\u001b[0;34m\u001b[0m\u001b[0m\n\u001b[0;32m--> 482\u001b[0;31m     \u001b[0mparser\u001b[0m \u001b[0;34m=\u001b[0m \u001b[0mTextFileReader\u001b[0m\u001b[0;34m(\u001b[0m\u001b[0mfilepath_or_buffer\u001b[0m\u001b[0;34m,\u001b[0m \u001b[0;34m**\u001b[0m\u001b[0mkwds\u001b[0m\u001b[0;34m)\u001b[0m\u001b[0;34m\u001b[0m\u001b[0;34m\u001b[0m\u001b[0m\n\u001b[0m\u001b[1;32m    483\u001b[0m \u001b[0;34m\u001b[0m\u001b[0m\n\u001b[1;32m    484\u001b[0m     \u001b[0;32mif\u001b[0m \u001b[0mchunksize\u001b[0m \u001b[0;32mor\u001b[0m \u001b[0miterator\u001b[0m\u001b[0;34m:\u001b[0m\u001b[0;34m\u001b[0m\u001b[0;34m\u001b[0m\u001b[0m\n",
            "\u001b[0;32m/usr/local/lib/python3.7/dist-packages/pandas/io/parsers/readers.py\u001b[0m in \u001b[0;36m__init__\u001b[0;34m(self, f, engine, **kwds)\u001b[0m\n\u001b[1;32m    809\u001b[0m             \u001b[0mself\u001b[0m\u001b[0;34m.\u001b[0m\u001b[0moptions\u001b[0m\u001b[0;34m[\u001b[0m\u001b[0;34m\"has_index_names\"\u001b[0m\u001b[0;34m]\u001b[0m \u001b[0;34m=\u001b[0m \u001b[0mkwds\u001b[0m\u001b[0;34m[\u001b[0m\u001b[0;34m\"has_index_names\"\u001b[0m\u001b[0;34m]\u001b[0m\u001b[0;34m\u001b[0m\u001b[0;34m\u001b[0m\u001b[0m\n\u001b[1;32m    810\u001b[0m \u001b[0;34m\u001b[0m\u001b[0m\n\u001b[0;32m--> 811\u001b[0;31m         \u001b[0mself\u001b[0m\u001b[0;34m.\u001b[0m\u001b[0m_engine\u001b[0m \u001b[0;34m=\u001b[0m \u001b[0mself\u001b[0m\u001b[0;34m.\u001b[0m\u001b[0m_make_engine\u001b[0m\u001b[0;34m(\u001b[0m\u001b[0mself\u001b[0m\u001b[0;34m.\u001b[0m\u001b[0mengine\u001b[0m\u001b[0;34m)\u001b[0m\u001b[0;34m\u001b[0m\u001b[0;34m\u001b[0m\u001b[0m\n\u001b[0m\u001b[1;32m    812\u001b[0m \u001b[0;34m\u001b[0m\u001b[0m\n\u001b[1;32m    813\u001b[0m     \u001b[0;32mdef\u001b[0m \u001b[0mclose\u001b[0m\u001b[0;34m(\u001b[0m\u001b[0mself\u001b[0m\u001b[0;34m)\u001b[0m\u001b[0;34m:\u001b[0m\u001b[0;34m\u001b[0m\u001b[0;34m\u001b[0m\u001b[0m\n",
            "\u001b[0;32m/usr/local/lib/python3.7/dist-packages/pandas/io/parsers/readers.py\u001b[0m in \u001b[0;36m_make_engine\u001b[0;34m(self, engine)\u001b[0m\n\u001b[1;32m   1038\u001b[0m             )\n\u001b[1;32m   1039\u001b[0m         \u001b[0;31m# error: Too many arguments for \"ParserBase\"\u001b[0m\u001b[0;34m\u001b[0m\u001b[0;34m\u001b[0m\u001b[0;34m\u001b[0m\u001b[0m\n\u001b[0;32m-> 1040\u001b[0;31m         \u001b[0;32mreturn\u001b[0m \u001b[0mmapping\u001b[0m\u001b[0;34m[\u001b[0m\u001b[0mengine\u001b[0m\u001b[0;34m]\u001b[0m\u001b[0;34m(\u001b[0m\u001b[0mself\u001b[0m\u001b[0;34m.\u001b[0m\u001b[0mf\u001b[0m\u001b[0;34m,\u001b[0m \u001b[0;34m**\u001b[0m\u001b[0mself\u001b[0m\u001b[0;34m.\u001b[0m\u001b[0moptions\u001b[0m\u001b[0;34m)\u001b[0m  \u001b[0;31m# type: ignore[call-arg]\u001b[0m\u001b[0;34m\u001b[0m\u001b[0;34m\u001b[0m\u001b[0m\n\u001b[0m\u001b[1;32m   1041\u001b[0m \u001b[0;34m\u001b[0m\u001b[0m\n\u001b[1;32m   1042\u001b[0m     \u001b[0;32mdef\u001b[0m \u001b[0m_failover_to_python\u001b[0m\u001b[0;34m(\u001b[0m\u001b[0mself\u001b[0m\u001b[0;34m)\u001b[0m\u001b[0;34m:\u001b[0m\u001b[0;34m\u001b[0m\u001b[0;34m\u001b[0m\u001b[0m\n",
            "\u001b[0;32m/usr/local/lib/python3.7/dist-packages/pandas/io/parsers/c_parser_wrapper.py\u001b[0m in \u001b[0;36m__init__\u001b[0;34m(self, src, **kwds)\u001b[0m\n\u001b[1;32m     49\u001b[0m \u001b[0;34m\u001b[0m\u001b[0m\n\u001b[1;32m     50\u001b[0m         \u001b[0;31m# open handles\u001b[0m\u001b[0;34m\u001b[0m\u001b[0;34m\u001b[0m\u001b[0;34m\u001b[0m\u001b[0m\n\u001b[0;32m---> 51\u001b[0;31m         \u001b[0mself\u001b[0m\u001b[0;34m.\u001b[0m\u001b[0m_open_handles\u001b[0m\u001b[0;34m(\u001b[0m\u001b[0msrc\u001b[0m\u001b[0;34m,\u001b[0m \u001b[0mkwds\u001b[0m\u001b[0;34m)\u001b[0m\u001b[0;34m\u001b[0m\u001b[0;34m\u001b[0m\u001b[0m\n\u001b[0m\u001b[1;32m     52\u001b[0m         \u001b[0;32massert\u001b[0m \u001b[0mself\u001b[0m\u001b[0;34m.\u001b[0m\u001b[0mhandles\u001b[0m \u001b[0;32mis\u001b[0m \u001b[0;32mnot\u001b[0m \u001b[0;32mNone\u001b[0m\u001b[0;34m\u001b[0m\u001b[0;34m\u001b[0m\u001b[0m\n\u001b[1;32m     53\u001b[0m \u001b[0;34m\u001b[0m\u001b[0m\n",
            "\u001b[0;32m/usr/local/lib/python3.7/dist-packages/pandas/io/parsers/base_parser.py\u001b[0m in \u001b[0;36m_open_handles\u001b[0;34m(self, src, kwds)\u001b[0m\n\u001b[1;32m    227\u001b[0m             \u001b[0mmemory_map\u001b[0m\u001b[0;34m=\u001b[0m\u001b[0mkwds\u001b[0m\u001b[0;34m.\u001b[0m\u001b[0mget\u001b[0m\u001b[0;34m(\u001b[0m\u001b[0;34m\"memory_map\"\u001b[0m\u001b[0;34m,\u001b[0m \u001b[0;32mFalse\u001b[0m\u001b[0;34m)\u001b[0m\u001b[0;34m,\u001b[0m\u001b[0;34m\u001b[0m\u001b[0;34m\u001b[0m\u001b[0m\n\u001b[1;32m    228\u001b[0m             \u001b[0mstorage_options\u001b[0m\u001b[0;34m=\u001b[0m\u001b[0mkwds\u001b[0m\u001b[0;34m.\u001b[0m\u001b[0mget\u001b[0m\u001b[0;34m(\u001b[0m\u001b[0;34m\"storage_options\"\u001b[0m\u001b[0;34m,\u001b[0m \u001b[0;32mNone\u001b[0m\u001b[0;34m)\u001b[0m\u001b[0;34m,\u001b[0m\u001b[0;34m\u001b[0m\u001b[0;34m\u001b[0m\u001b[0m\n\u001b[0;32m--> 229\u001b[0;31m             \u001b[0merrors\u001b[0m\u001b[0;34m=\u001b[0m\u001b[0mkwds\u001b[0m\u001b[0;34m.\u001b[0m\u001b[0mget\u001b[0m\u001b[0;34m(\u001b[0m\u001b[0;34m\"encoding_errors\"\u001b[0m\u001b[0;34m,\u001b[0m \u001b[0;34m\"strict\"\u001b[0m\u001b[0;34m)\u001b[0m\u001b[0;34m,\u001b[0m\u001b[0;34m\u001b[0m\u001b[0;34m\u001b[0m\u001b[0m\n\u001b[0m\u001b[1;32m    230\u001b[0m         )\n\u001b[1;32m    231\u001b[0m \u001b[0;34m\u001b[0m\u001b[0m\n",
            "\u001b[0;32m/usr/local/lib/python3.7/dist-packages/pandas/io/common.py\u001b[0m in \u001b[0;36mget_handle\u001b[0;34m(path_or_buf, mode, encoding, compression, memory_map, is_text, errors, storage_options)\u001b[0m\n\u001b[1;32m    705\u001b[0m                 \u001b[0mencoding\u001b[0m\u001b[0;34m=\u001b[0m\u001b[0mioargs\u001b[0m\u001b[0;34m.\u001b[0m\u001b[0mencoding\u001b[0m\u001b[0;34m,\u001b[0m\u001b[0;34m\u001b[0m\u001b[0;34m\u001b[0m\u001b[0m\n\u001b[1;32m    706\u001b[0m                 \u001b[0merrors\u001b[0m\u001b[0;34m=\u001b[0m\u001b[0merrors\u001b[0m\u001b[0;34m,\u001b[0m\u001b[0;34m\u001b[0m\u001b[0;34m\u001b[0m\u001b[0m\n\u001b[0;32m--> 707\u001b[0;31m                 \u001b[0mnewline\u001b[0m\u001b[0;34m=\u001b[0m\u001b[0;34m\"\"\u001b[0m\u001b[0;34m,\u001b[0m\u001b[0;34m\u001b[0m\u001b[0;34m\u001b[0m\u001b[0m\n\u001b[0m\u001b[1;32m    708\u001b[0m             )\n\u001b[1;32m    709\u001b[0m         \u001b[0;32melse\u001b[0m\u001b[0;34m:\u001b[0m\u001b[0;34m\u001b[0m\u001b[0;34m\u001b[0m\u001b[0m\n",
            "\u001b[0;31mFileNotFoundError\u001b[0m: [Errno 2] No such file or directory: 'C:/Users/jack.wellmerling/Documents/MyDocs/PythonScriptData/WorkDirectory/Database_Table_Definition_Info.txt'"
          ]
        }
      ],
      "source": [
        "#------------------------------------------------\n",
        "# Read .CSV file into a dataframe\n",
        "#------------------------------------------------\n",
        "#df_database_info = pd.read_csv(csv_in_file, encoding = \"latin1\" )\n",
        "df_database_info = pd.read_csv(csv_in_file )\n",
        "df_database_info.head(10)\n"
      ]
    },
    {
      "cell_type": "markdown",
      "source": [
        "# New Section"
      ],
      "metadata": {
        "id": "ksagtGNJWIRV"
      }
    },
    {
      "cell_type": "code",
      "execution_count": null,
      "metadata": {
        "id": "XH9GmWjJIK7b",
        "outputId": "e73983bb-c749-4b3f-cc91-6891c0c79fae",
        "colab": {
          "base_uri": "https://localhost:8080/"
        }
      },
      "outputs": [
        {
          "output_type": "execute_result",
          "data": {
            "text/plain": [
              "['.config', 'sample_data']"
            ]
          },
          "metadata": {},
          "execution_count": 11
        }
      ],
      "source": [
        "#------------------------------------------------\n",
        "# Listing files in current directory\n",
        "#------------------------------------------------\n",
        "import os\n",
        "os.listdir()"
      ]
    },
    {
      "cell_type": "code",
      "execution_count": null,
      "metadata": {
        "id": "NkafscusIK7b"
      },
      "outputs": [],
      "source": [
        "sqlBegin = 'CREATE TABLE '\n",
        "sqlTable = '[EDExtract].[dbo].[LexisNexisAddressLocationExtract]'\n",
        "sqlNULL = 'NULL'\n",
        "sqlNOTNULL = 'NOT NULL'\n",
        "sqlDefFileFormatId = '@DefFileFormatId'\n",
        "sqlDefFileRowLayoutId = '@DefFileRowLayoutId'\n",
        "sqlZero = '0'\n",
        "sqlComma = ','\n",
        "sqlOpenBracket = '['\n",
        "sqlOpenParen = '('\n",
        "sqlCloseBracket = ']'\n",
        "sqlCloseParen = ')'\n",
        "sqlSpace = ' '\n",
        "sqlVarChar = '[varchar]'\n",
        "\n",
        "sqlEnd = ')'\n",
        "\n",
        "sqlConstraint = ' CONSTRAINT [PK_LexisNexisAddressLocationExtract] PRIMARY KEY CLUSTERED'\n",
        "sqlCons1 = '[RowId] ASC' + sqlComma\n",
        "sqlCons2 = '[FileId] ASC' + sqlComma\n",
        "sqlCons3 = '[ExecutionId] ASC'\n",
        "sqlWith = sqlCloseParen + 'WITH (PAD_INDEX = OFF, STATISTICS_NORECOMPUTE = OFF, IGNORE_DUP_KEY = OFF, ALLOW_ROW_LOCKS = ON, ALLOW_PAGE_LOCKS = ON) ON [PRIMARY]'\n",
        "sqlStorage = sqlCloseParen + ' ON [PRIMARY]'\n",
        "i = 0"
      ]
    },
    {
      "cell_type": "code",
      "execution_count": null,
      "metadata": {
        "id": "Sh1dHCpYIK7c"
      },
      "outputs": [],
      "source": [
        "for ind, row in df_database_info.iterrows():\n",
        "    if row['Type'] == 'v':\n",
        "        df_database_info.loc[ind, \"SQL_Create_Tbl\"] = sqlOpenBracket + row['Column_Header'] + sqlCloseBracket + sqlSpace  + sqlVarChar + sqlOpenParen +  str(row['Length_of_Field']) + sqlCloseParen + sqlSpace + sqlNULL + sqlComma"
      ]
    },
    {
      "cell_type": "code",
      "execution_count": null,
      "metadata": {
        "id": "bmiJiAwQIK7c",
        "outputId": "7f646e46-972c-4dfa-8a00-028adaa8779c"
      },
      "outputs": [
        {
          "name": "stdout",
          "output_type": "stream",
          "text": [
            "[CASE_NUM] [varchar](7) NULL,\n",
            "[CERT_NUM] [varchar](4) NULL,\n",
            "[CLMT_NUM] [varchar](1) NULL,\n",
            "[DIV_NUM] [varchar](3) NULL,\n",
            "[PLAN_NUM] [varchar](5) NULL,\n",
            "[EMP_SSN] [varchar](11) NULL,\n",
            "[EMP_LAST_NAME] [varchar](25) NULL,\n",
            "[EMP_FIRST_NAME] [varchar](15) NULL,\n",
            "[SSN] [varchar](11) NULL,\n",
            "[LAST_NAME] [varchar](25) NULL,\n",
            "[FIRST_NAME] [varchar](15) NULL,\n",
            "[BIRTH_DATE] [varchar](10) NULL,\n",
            "[STATE] [varchar](2) NULL,\n",
            "[RELATION] [varchar](8) NULL,\n",
            "[DOCUMENT_NUM] [varchar](10) NULL,\n",
            "[BILL_REFERENCE_NUM] [varchar](10) NULL,\n",
            "[BILL_ENTRY_NUM] [varchar](4) NULL,\n",
            "[CLAIM_STATUS] [varchar](8) NULL,\n",
            "[DOS_INITIAL] [varchar](10) NULL,\n",
            "[DOS_FINAL] [varchar](10) NULL,\n",
            "[PAID_DATE] [varchar](10) NULL,\n",
            "[TAX_ID] [varchar](11) NULL,\n",
            "[SUB_TIN] [varchar](3) NULL,\n",
            "[PROVIDER] [varchar](30) NULL,\n",
            "[PROV_TYPE] [varchar](4) NULL,\n",
            "[PROV_SPECIALTY] [varchar](50) NULL,\n",
            "[PROV_ADDRESS] [varchar](60) NULL,\n",
            "[PROV_CITY] [varchar](15) NULL,\n",
            "[PROV_STATE] [varchar](2) NULL,\n",
            "[PROV_ZIP] [varchar](10) NULL,\n",
            "[PROV_PHONE] [varchar](14) NULL,\n",
            "[PROV_FAX] [varchar](14) NULL,\n",
            "[POS] [varchar](2) NULL,\n",
            "[POS_DESC] [varchar](50) NULL,\n",
            "[PLACE_TYPE] [varchar](2) NULL,\n",
            "[NETWORK] [varchar](4) NULL,\n",
            "[ICD_CODE] [varchar](7) NULL,\n",
            "[ICD_DESC] [varchar](30) NULL,\n",
            "[ICD_CODE_2\"] [varchar](2) NULL,\n",
            "[ICD_DESC_2\"] [varchar](30) NULL,\n",
            "[ICD_CODE_3\"] [varchar](7) NULL,\n",
            "[ICD_DESC_3\"] [varchar](30) NULL,\n",
            "[ICD_CODE_4\"] [varchar](7) NULL,\n",
            "[ICD_DESC_4\"] [varchar](30) NULL,\n",
            "[ICD_CODE_5\"] [varchar](7) NULL,\n",
            "[ICD_DESC_5\"] [varchar](30) NULL,\n",
            "[ICD_CODE_6\"] [varchar](7) NULL,\n",
            "[ICD_DESC_6\"] [varchar](30) NULL,\n",
            "[CHARGE_TYPE] [varchar](4) NULL,\n",
            "[CHARGE_DESC] [varchar](20) NULL,\n",
            "[CLAIM_TYPE] [varchar](10) NULL,\n",
            "[PROC_TYPE] [varchar](4) NULL,\n",
            "[PROC_CODE] [varchar](11) NULL,\n",
            "[PROC_MOD1\"] [varchar](2) NULL,\n",
            "[PROC_MOD2\"] [varchar](2) NULL,\n",
            "[PROC_MOD3\"] [varchar](2) NULL,\n",
            "[PROC_MOD4\"] [varchar](2) NULL,\n",
            "[PROC_DESC] [varchar](60) NULL,\n",
            "[ALLOWED] [varchar](12) NULL,\n",
            "[INEL_CODE] [varchar](3) NULL,\n",
            "[INEL] [varchar](12) NULL,\n",
            "[ELIGIBLE] [varchar](12) NULL,\n",
            "[DED] [varchar](12) NULL,\n",
            "[OOP] [varchar](12) NULL,\n",
            "[COPAY] [varchar](12) NULL,\n",
            "[COINS] [varchar](12) NULL,\n",
            "[PAID] [varchar](12) NULL,\n",
            "[PAID_MO] [varchar](2) NULL,\n",
            "[PAID_YR] [varchar](4) NULL,\n",
            "[SERVICE_MO] [varchar](2) NULL,\n",
            "[SERVICE_YR] [varchar](4) NULL,\n"
          ]
        }
      ],
      "source": [
        "#f = open(out_file, 'w', encoding=\"latin1\")\n",
        "f = open(out_file, 'w')\n",
        "f.write(sqlBegin + sqlTable + '\\n')\n",
        "f.write(sqlOpenParen + '\\n')\n",
        "for ind, row in df_database_info.iterrows():\n",
        "    if i > len(df_database_info):\n",
        "       break\n",
        "    else:\n",
        "#       f = open(str(i)+'.txt', 'w')\n",
        "       f.write(row ['SQL_Create_Tbl'] + '\\n')\n",
        "       print (row['SQL_Create_Tbl']) \n",
        "       i+=1\n",
        "#\n",
        "f.write(sqlConstraint + '\\n')\n",
        "f.write(sqlOpenParen + '\\n')\n",
        "f.write(sqlCons1 + '\\n')\n",
        "f.write(sqlCons2 + '\\n')\n",
        "f.write(sqlCons3+ '\\n')\n",
        "f.write(sqlWith + '\\n')\n",
        "f.write(sqlStorage + '\\n')\n",
        "#\n",
        "f.close()"
      ]
    },
    {
      "cell_type": "code",
      "execution_count": null,
      "metadata": {
        "id": "Zch0VJHFIK7d"
      },
      "outputs": [],
      "source": [
        "#for index, row in p.iterrows():\n",
        "#    if i > len(p):\n",
        "#       break\n",
        "#    else:\n",
        "#       f = open(str(i)+'.txt', 'w')\n",
        "#       f.write(row[0])\n",
        "#       f.close()\n",
        "#       i+=1"
      ]
    },
    {
      "cell_type": "code",
      "execution_count": null,
      "metadata": {
        "id": "9vT4TQYOIK7e",
        "outputId": "5c6b470a-d268-42f3-b753-e44b40885c35"
      },
      "outputs": [
        {
          "data": {
            "text/html": [
              "<div>\n",
              "<style scoped>\n",
              "    .dataframe tbody tr th:only-of-type {\n",
              "        vertical-align: middle;\n",
              "    }\n",
              "\n",
              "    .dataframe tbody tr th {\n",
              "        vertical-align: top;\n",
              "    }\n",
              "\n",
              "    .dataframe thead th {\n",
              "        text-align: right;\n",
              "    }\n",
              "</style>\n",
              "<table border=\"1\" class=\"dataframe\">\n",
              "  <thead>\n",
              "    <tr style=\"text-align: right;\">\n",
              "      <th></th>\n",
              "      <th>Column_Header</th>\n",
              "      <th>Column_Order</th>\n",
              "      <th>Length_of_Field</th>\n",
              "      <th>Type</th>\n",
              "      <th>SQL_Create_Tbl</th>\n",
              "    </tr>\n",
              "  </thead>\n",
              "  <tbody>\n",
              "    <tr>\n",
              "      <th>0</th>\n",
              "      <td>CASE_NUM</td>\n",
              "      <td>7</td>\n",
              "      <td>7</td>\n",
              "      <td>v</td>\n",
              "      <td>[CASE_NUM] [varchar](7) NULL,</td>\n",
              "    </tr>\n",
              "    <tr>\n",
              "      <th>1</th>\n",
              "      <td>CERT_NUM</td>\n",
              "      <td>8</td>\n",
              "      <td>4</td>\n",
              "      <td>v</td>\n",
              "      <td>[CERT_NUM] [varchar](4) NULL,</td>\n",
              "    </tr>\n",
              "    <tr>\n",
              "      <th>2</th>\n",
              "      <td>CLMT_NUM</td>\n",
              "      <td>9</td>\n",
              "      <td>1</td>\n",
              "      <td>v</td>\n",
              "      <td>[CLMT_NUM] [varchar](1) NULL,</td>\n",
              "    </tr>\n",
              "    <tr>\n",
              "      <th>3</th>\n",
              "      <td>DIV_NUM</td>\n",
              "      <td>10</td>\n",
              "      <td>3</td>\n",
              "      <td>v</td>\n",
              "      <td>[DIV_NUM] [varchar](3) NULL,</td>\n",
              "    </tr>\n",
              "    <tr>\n",
              "      <th>4</th>\n",
              "      <td>PLAN_NUM</td>\n",
              "      <td>11</td>\n",
              "      <td>5</td>\n",
              "      <td>v</td>\n",
              "      <td>[PLAN_NUM] [varchar](5) NULL,</td>\n",
              "    </tr>\n",
              "    <tr>\n",
              "      <th>5</th>\n",
              "      <td>EMP_SSN</td>\n",
              "      <td>12</td>\n",
              "      <td>11</td>\n",
              "      <td>v</td>\n",
              "      <td>[EMP_SSN] [varchar](11) NULL,</td>\n",
              "    </tr>\n",
              "    <tr>\n",
              "      <th>6</th>\n",
              "      <td>EMP_LAST_NAME</td>\n",
              "      <td>13</td>\n",
              "      <td>25</td>\n",
              "      <td>v</td>\n",
              "      <td>[EMP_LAST_NAME] [varchar](25) NULL,</td>\n",
              "    </tr>\n",
              "    <tr>\n",
              "      <th>7</th>\n",
              "      <td>EMP_FIRST_NAME</td>\n",
              "      <td>14</td>\n",
              "      <td>15</td>\n",
              "      <td>v</td>\n",
              "      <td>[EMP_FIRST_NAME] [varchar](15) NULL,</td>\n",
              "    </tr>\n",
              "    <tr>\n",
              "      <th>8</th>\n",
              "      <td>SSN</td>\n",
              "      <td>15</td>\n",
              "      <td>11</td>\n",
              "      <td>v</td>\n",
              "      <td>[SSN] [varchar](11) NULL,</td>\n",
              "    </tr>\n",
              "    <tr>\n",
              "      <th>9</th>\n",
              "      <td>LAST_NAME</td>\n",
              "      <td>16</td>\n",
              "      <td>25</td>\n",
              "      <td>v</td>\n",
              "      <td>[LAST_NAME] [varchar](25) NULL,</td>\n",
              "    </tr>\n",
              "    <tr>\n",
              "      <th>10</th>\n",
              "      <td>FIRST_NAME</td>\n",
              "      <td>17</td>\n",
              "      <td>15</td>\n",
              "      <td>v</td>\n",
              "      <td>[FIRST_NAME] [varchar](15) NULL,</td>\n",
              "    </tr>\n",
              "    <tr>\n",
              "      <th>11</th>\n",
              "      <td>BIRTH_DATE</td>\n",
              "      <td>18</td>\n",
              "      <td>10</td>\n",
              "      <td>v</td>\n",
              "      <td>[BIRTH_DATE] [varchar](10) NULL,</td>\n",
              "    </tr>\n",
              "    <tr>\n",
              "      <th>12</th>\n",
              "      <td>STATE</td>\n",
              "      <td>19</td>\n",
              "      <td>2</td>\n",
              "      <td>v</td>\n",
              "      <td>[STATE] [varchar](2) NULL,</td>\n",
              "    </tr>\n",
              "    <tr>\n",
              "      <th>13</th>\n",
              "      <td>RELATION</td>\n",
              "      <td>20</td>\n",
              "      <td>8</td>\n",
              "      <td>v</td>\n",
              "      <td>[RELATION] [varchar](8) NULL,</td>\n",
              "    </tr>\n",
              "    <tr>\n",
              "      <th>14</th>\n",
              "      <td>DOCUMENT_NUM</td>\n",
              "      <td>21</td>\n",
              "      <td>10</td>\n",
              "      <td>v</td>\n",
              "      <td>[DOCUMENT_NUM] [varchar](10) NULL,</td>\n",
              "    </tr>\n",
              "    <tr>\n",
              "      <th>15</th>\n",
              "      <td>BILL_REFERENCE_NUM</td>\n",
              "      <td>22</td>\n",
              "      <td>10</td>\n",
              "      <td>v</td>\n",
              "      <td>[BILL_REFERENCE_NUM] [varchar](10) NULL,</td>\n",
              "    </tr>\n",
              "    <tr>\n",
              "      <th>16</th>\n",
              "      <td>BILL_ENTRY_NUM</td>\n",
              "      <td>23</td>\n",
              "      <td>4</td>\n",
              "      <td>v</td>\n",
              "      <td>[BILL_ENTRY_NUM] [varchar](4) NULL,</td>\n",
              "    </tr>\n",
              "    <tr>\n",
              "      <th>17</th>\n",
              "      <td>CLAIM_STATUS</td>\n",
              "      <td>24</td>\n",
              "      <td>8</td>\n",
              "      <td>v</td>\n",
              "      <td>[CLAIM_STATUS] [varchar](8) NULL,</td>\n",
              "    </tr>\n",
              "    <tr>\n",
              "      <th>18</th>\n",
              "      <td>DOS_INITIAL</td>\n",
              "      <td>25</td>\n",
              "      <td>10</td>\n",
              "      <td>v</td>\n",
              "      <td>[DOS_INITIAL] [varchar](10) NULL,</td>\n",
              "    </tr>\n",
              "    <tr>\n",
              "      <th>19</th>\n",
              "      <td>DOS_FINAL</td>\n",
              "      <td>26</td>\n",
              "      <td>10</td>\n",
              "      <td>v</td>\n",
              "      <td>[DOS_FINAL] [varchar](10) NULL,</td>\n",
              "    </tr>\n",
              "  </tbody>\n",
              "</table>\n",
              "</div>"
            ],
            "text/plain": [
              "         Column_Header  Column_Order  Length_of_Field Type  \\\n",
              "0             CASE_NUM             7                7    v   \n",
              "1             CERT_NUM             8                4    v   \n",
              "2             CLMT_NUM             9                1    v   \n",
              "3              DIV_NUM            10                3    v   \n",
              "4             PLAN_NUM            11                5    v   \n",
              "5              EMP_SSN            12               11    v   \n",
              "6        EMP_LAST_NAME            13               25    v   \n",
              "7       EMP_FIRST_NAME            14               15    v   \n",
              "8                  SSN            15               11    v   \n",
              "9            LAST_NAME            16               25    v   \n",
              "10          FIRST_NAME            17               15    v   \n",
              "11          BIRTH_DATE            18               10    v   \n",
              "12               STATE            19                2    v   \n",
              "13            RELATION            20                8    v   \n",
              "14        DOCUMENT_NUM            21               10    v   \n",
              "15  BILL_REFERENCE_NUM            22               10    v   \n",
              "16      BILL_ENTRY_NUM            23                4    v   \n",
              "17        CLAIM_STATUS            24                8    v   \n",
              "18         DOS_INITIAL            25               10    v   \n",
              "19           DOS_FINAL            26               10    v   \n",
              "\n",
              "                              SQL_Create_Tbl  \n",
              "0              [CASE_NUM] [varchar](7) NULL,  \n",
              "1              [CERT_NUM] [varchar](4) NULL,  \n",
              "2              [CLMT_NUM] [varchar](1) NULL,  \n",
              "3               [DIV_NUM] [varchar](3) NULL,  \n",
              "4              [PLAN_NUM] [varchar](5) NULL,  \n",
              "5              [EMP_SSN] [varchar](11) NULL,  \n",
              "6        [EMP_LAST_NAME] [varchar](25) NULL,  \n",
              "7       [EMP_FIRST_NAME] [varchar](15) NULL,  \n",
              "8                  [SSN] [varchar](11) NULL,  \n",
              "9            [LAST_NAME] [varchar](25) NULL,  \n",
              "10          [FIRST_NAME] [varchar](15) NULL,  \n",
              "11          [BIRTH_DATE] [varchar](10) NULL,  \n",
              "12                [STATE] [varchar](2) NULL,  \n",
              "13             [RELATION] [varchar](8) NULL,  \n",
              "14        [DOCUMENT_NUM] [varchar](10) NULL,  \n",
              "15  [BILL_REFERENCE_NUM] [varchar](10) NULL,  \n",
              "16       [BILL_ENTRY_NUM] [varchar](4) NULL,  \n",
              "17         [CLAIM_STATUS] [varchar](8) NULL,  \n",
              "18         [DOS_INITIAL] [varchar](10) NULL,  \n",
              "19           [DOS_FINAL] [varchar](10) NULL,  "
            ]
          },
          "execution_count": 9,
          "metadata": {},
          "output_type": "execute_result"
        }
      ],
      "source": [
        "df_database_info.head(20)"
      ]
    },
    {
      "cell_type": "code",
      "execution_count": null,
      "metadata": {
        "id": "DBLnYS67IK7e"
      },
      "outputs": [],
      "source": [
        ""
      ]
    },
    {
      "cell_type": "code",
      "execution_count": null,
      "metadata": {
        "id": "mYFywwg_IK7e"
      },
      "outputs": [],
      "source": [
        ""
      ]
    },
    {
      "cell_type": "code",
      "execution_count": null,
      "metadata": {
        "id": "UHQVvXaEIK7f"
      },
      "outputs": [],
      "source": [
        ""
      ]
    }
  ],
  "metadata": {
    "kernelspec": {
      "display_name": "Python 3",
      "language": "python",
      "name": "python3"
    },
    "language_info": {
      "codemirror_mode": {
        "name": "ipython",
        "version": 3
      },
      "file_extension": ".py",
      "mimetype": "text/x-python",
      "name": "python",
      "nbconvert_exporter": "python",
      "pygments_lexer": "ipython3",
      "version": "3.8.3"
    },
    "colab": {
      "name": "SQL_Create_Table_from_CSV.ipynb",
      "provenance": [],
      "toc_visible": true,
      "include_colab_link": true
    }
  },
  "nbformat": 4,
  "nbformat_minor": 0
}