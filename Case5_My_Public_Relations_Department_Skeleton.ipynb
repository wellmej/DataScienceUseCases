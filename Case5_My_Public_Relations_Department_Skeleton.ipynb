{
  "nbformat": 4,
  "nbformat_minor": 0,
  "metadata": {
    "colab": {
      "name": "Case5-My Public Relations Department Skeleton",
      "provenance": [],
      "collapsed_sections": [],
      "include_colab_link": true
    },
    "kernelspec": {
      "name": "python3",
      "display_name": "Python 3"
    }
  },
  "cells": [
    {
      "cell_type": "markdown",
      "metadata": {
        "id": "view-in-github",
        "colab_type": "text"
      },
      "source": [
        "<a href=\"https://colab.research.google.com/github/wellmej/DataScienceUseCases/blob/main/Case5_My_Public_Relations_Department_Skeleton.ipynb\" target=\"_parent\"><img src=\"https://colab.research.google.com/assets/colab-badge.svg\" alt=\"Open In Colab\"/></a>"
      ]
    },
    {
      "cell_type": "markdown",
      "metadata": {
        "id": "M27qF7CTrBqc"
      },
      "source": [
        "# TASK #1: UNDERSTAND THE PROBLEM STATEMENT AND BUSINESS CASE"
      ]
    },
    {
      "cell_type": "markdown",
      "metadata": {
        "id": "Z2ZMlH-gtOxf"
      },
      "source": [
        "\n",
        "<table>\n",
        "  <tr><td>\n",
        "    <img src=\"https://drive.google.com/uc?id=11BquVVgQTebvVO5NZ2TGA526rulbWBv5\"\n",
        "         alt=\"Fashion MNIST sprite\"  width=\"1000\">\n",
        "  </td></tr>\n",
        "  <tr><td align=\"center\">\n",
        "    <b>Figure 1. Analyzing Customer Sentiment\n",
        "  </td></tr>\n",
        "</table>\n"
      ]
    },
    {
      "cell_type": "markdown",
      "metadata": {
        "id": "9F1ovxKWSJht"
      },
      "source": [
        "![alt text](https://drive.google.com/uc?id=1HfZvPCWAwKoYl1qogYlxD_CIZYxYw0aI)"
      ]
    },
    {
      "cell_type": "markdown",
      "metadata": {
        "id": "LABJxEEYSOCe"
      },
      "source": [
        "![alt text](https://drive.google.com/uc?id=1XGc89Cxi0ooFQIc6o041cz8-qwXg7l3g)"
      ]
    },
    {
      "cell_type": "markdown",
      "metadata": {
        "id": "uAE6Icc0uylP"
      },
      "source": [
        "# TASK #2: IMPORT LIBRARIES AND DATASETS"
      ]
    },
    {
      "cell_type": "code",
      "metadata": {
        "id": "YBp2qDPb8pDo"
      },
      "source": [
        "import pandas as pd\n",
        "import numpy as np\n",
        "import seaborn as sns\n",
        "import matplotlib.pyplot as plt"
      ],
      "execution_count": null,
      "outputs": []
    },
    {
      "cell_type": "code",
      "metadata": {
        "id": "5P_ciLXawMZg",
        "colab": {
          "base_uri": "https://localhost:8080/"
        },
        "outputId": "935a152b-b639-4964-92aa-1952727c52bc"
      },
      "source": [
        "# You will need to mount your drive using the following commands:\n",
        "# For more information regarding mounting, please check this out: https://stackoverflow.com/questions/46986398/import-data-into-google-colaboratory\n",
        "\n",
        "from google.colab import drive\n",
        "drive.mount('/content/drive')"
      ],
      "execution_count": null,
      "outputs": [
        {
          "output_type": "stream",
          "text": [
            "Mounted at /content/drive\n"
          ],
          "name": "stdout"
        }
      ]
    },
    {
      "cell_type": "code",
      "metadata": {
        "id": "tjIiJdM4u1IE",
        "colab": {
          "base_uri": "https://localhost:8080/",
          "height": 787
        },
        "outputId": "33679e98-3f9c-4905-b5cd-dd4f701f6451"
      },
      "source": [
        "reviews_file = '/content/drive/MyDrive/Colab Notebooks/Data Science Case Studies/Case5/amazon_alexa.tsv'\r\n",
        "reviews_df = pd.read_csv(reviews_file, sep = '\\t')  # to read tab separated data file\r\n",
        "reviews_df.head(25)\r\n",
        "#\r\n",
        "# File is reviews of Amazon Echo.\r\n",
        "#\r\n",
        "# variation: Type of Echo finish or sytle\r\n",
        "# verified_reviews: Text of the review\r\n",
        "# feedback: 1 = rating was either 4 or 5 (positive review), 0 = rating was 1 or 2 (negative review)\r\n",
        "#"
      ],
      "execution_count": 4,
      "outputs": [
        {
          "output_type": "execute_result",
          "data": {
            "text/html": [
              "<div>\n",
              "<style scoped>\n",
              "    .dataframe tbody tr th:only-of-type {\n",
              "        vertical-align: middle;\n",
              "    }\n",
              "\n",
              "    .dataframe tbody tr th {\n",
              "        vertical-align: top;\n",
              "    }\n",
              "\n",
              "    .dataframe thead th {\n",
              "        text-align: right;\n",
              "    }\n",
              "</style>\n",
              "<table border=\"1\" class=\"dataframe\">\n",
              "  <thead>\n",
              "    <tr style=\"text-align: right;\">\n",
              "      <th></th>\n",
              "      <th>rating</th>\n",
              "      <th>date</th>\n",
              "      <th>variation</th>\n",
              "      <th>verified_reviews</th>\n",
              "      <th>feedback</th>\n",
              "    </tr>\n",
              "  </thead>\n",
              "  <tbody>\n",
              "    <tr>\n",
              "      <th>0</th>\n",
              "      <td>5</td>\n",
              "      <td>31-Jul-18</td>\n",
              "      <td>Charcoal Fabric</td>\n",
              "      <td>Love my Echo!</td>\n",
              "      <td>1</td>\n",
              "    </tr>\n",
              "    <tr>\n",
              "      <th>1</th>\n",
              "      <td>5</td>\n",
              "      <td>31-Jul-18</td>\n",
              "      <td>Charcoal Fabric</td>\n",
              "      <td>Loved it!</td>\n",
              "      <td>1</td>\n",
              "    </tr>\n",
              "    <tr>\n",
              "      <th>2</th>\n",
              "      <td>4</td>\n",
              "      <td>31-Jul-18</td>\n",
              "      <td>Walnut Finish</td>\n",
              "      <td>Sometimes while playing a game, you can answer...</td>\n",
              "      <td>1</td>\n",
              "    </tr>\n",
              "    <tr>\n",
              "      <th>3</th>\n",
              "      <td>5</td>\n",
              "      <td>31-Jul-18</td>\n",
              "      <td>Charcoal Fabric</td>\n",
              "      <td>I have had a lot of fun with this thing. My 4 ...</td>\n",
              "      <td>1</td>\n",
              "    </tr>\n",
              "    <tr>\n",
              "      <th>4</th>\n",
              "      <td>5</td>\n",
              "      <td>31-Jul-18</td>\n",
              "      <td>Charcoal Fabric</td>\n",
              "      <td>Music</td>\n",
              "      <td>1</td>\n",
              "    </tr>\n",
              "    <tr>\n",
              "      <th>5</th>\n",
              "      <td>5</td>\n",
              "      <td>31-Jul-18</td>\n",
              "      <td>Heather Gray Fabric</td>\n",
              "      <td>I received the echo as a gift. I needed anothe...</td>\n",
              "      <td>1</td>\n",
              "    </tr>\n",
              "    <tr>\n",
              "      <th>6</th>\n",
              "      <td>3</td>\n",
              "      <td>31-Jul-18</td>\n",
              "      <td>Sandstone Fabric</td>\n",
              "      <td>Without having a cellphone, I cannot use many ...</td>\n",
              "      <td>1</td>\n",
              "    </tr>\n",
              "    <tr>\n",
              "      <th>7</th>\n",
              "      <td>5</td>\n",
              "      <td>31-Jul-18</td>\n",
              "      <td>Charcoal Fabric</td>\n",
              "      <td>I think this is the 5th one I've purchased. I'...</td>\n",
              "      <td>1</td>\n",
              "    </tr>\n",
              "    <tr>\n",
              "      <th>8</th>\n",
              "      <td>5</td>\n",
              "      <td>30-Jul-18</td>\n",
              "      <td>Heather Gray Fabric</td>\n",
              "      <td>looks great</td>\n",
              "      <td>1</td>\n",
              "    </tr>\n",
              "    <tr>\n",
              "      <th>9</th>\n",
              "      <td>5</td>\n",
              "      <td>30-Jul-18</td>\n",
              "      <td>Heather Gray Fabric</td>\n",
              "      <td>Love it! I’ve listened to songs I haven’t hear...</td>\n",
              "      <td>1</td>\n",
              "    </tr>\n",
              "    <tr>\n",
              "      <th>10</th>\n",
              "      <td>5</td>\n",
              "      <td>30-Jul-18</td>\n",
              "      <td>Charcoal Fabric</td>\n",
              "      <td>I sent it to my 85 year old Dad, and he talks ...</td>\n",
              "      <td>1</td>\n",
              "    </tr>\n",
              "    <tr>\n",
              "      <th>11</th>\n",
              "      <td>5</td>\n",
              "      <td>30-Jul-18</td>\n",
              "      <td>Charcoal Fabric</td>\n",
              "      <td>I love it! Learning knew things with it eveyda...</td>\n",
              "      <td>1</td>\n",
              "    </tr>\n",
              "    <tr>\n",
              "      <th>12</th>\n",
              "      <td>5</td>\n",
              "      <td>30-Jul-18</td>\n",
              "      <td>Oak Finish</td>\n",
              "      <td>I purchased this for my mother who is having k...</td>\n",
              "      <td>1</td>\n",
              "    </tr>\n",
              "    <tr>\n",
              "      <th>13</th>\n",
              "      <td>5</td>\n",
              "      <td>30-Jul-18</td>\n",
              "      <td>Charcoal Fabric</td>\n",
              "      <td>Love, Love, Love!!</td>\n",
              "      <td>1</td>\n",
              "    </tr>\n",
              "    <tr>\n",
              "      <th>14</th>\n",
              "      <td>5</td>\n",
              "      <td>30-Jul-18</td>\n",
              "      <td>Oak Finish</td>\n",
              "      <td>Just what I expected....</td>\n",
              "      <td>1</td>\n",
              "    </tr>\n",
              "    <tr>\n",
              "      <th>15</th>\n",
              "      <td>5</td>\n",
              "      <td>30-Jul-18</td>\n",
              "      <td>Heather Gray Fabric</td>\n",
              "      <td>I love it, wife hates it.</td>\n",
              "      <td>1</td>\n",
              "    </tr>\n",
              "    <tr>\n",
              "      <th>16</th>\n",
              "      <td>5</td>\n",
              "      <td>30-Jul-18</td>\n",
              "      <td>Heather Gray Fabric</td>\n",
              "      <td>Really happy with this purchase.  Great speake...</td>\n",
              "      <td>1</td>\n",
              "    </tr>\n",
              "    <tr>\n",
              "      <th>17</th>\n",
              "      <td>5</td>\n",
              "      <td>30-Jul-18</td>\n",
              "      <td>Heather Gray Fabric</td>\n",
              "      <td>We have only been using Alexa for a couple of ...</td>\n",
              "      <td>1</td>\n",
              "    </tr>\n",
              "    <tr>\n",
              "      <th>18</th>\n",
              "      <td>5</td>\n",
              "      <td>30-Jul-18</td>\n",
              "      <td>Charcoal Fabric</td>\n",
              "      <td>We love the size of the 2nd generation echo. S...</td>\n",
              "      <td>1</td>\n",
              "    </tr>\n",
              "    <tr>\n",
              "      <th>19</th>\n",
              "      <td>4</td>\n",
              "      <td>30-Jul-18</td>\n",
              "      <td>Sandstone Fabric</td>\n",
              "      <td>I liked the original Echo. This is the same bu...</td>\n",
              "      <td>1</td>\n",
              "    </tr>\n",
              "    <tr>\n",
              "      <th>20</th>\n",
              "      <td>5</td>\n",
              "      <td>30-Jul-18</td>\n",
              "      <td>Charcoal Fabric</td>\n",
              "      <td>Love the Echo and how good the music sounds pl...</td>\n",
              "      <td>1</td>\n",
              "    </tr>\n",
              "    <tr>\n",
              "      <th>21</th>\n",
              "      <td>5</td>\n",
              "      <td>30-Jul-18</td>\n",
              "      <td>Charcoal Fabric</td>\n",
              "      <td>We love Alexa! We use her to play music, play ...</td>\n",
              "      <td>1</td>\n",
              "    </tr>\n",
              "    <tr>\n",
              "      <th>22</th>\n",
              "      <td>4</td>\n",
              "      <td>30-Jul-18</td>\n",
              "      <td>Heather Gray Fabric</td>\n",
              "      <td>Have only had it set up for a few days. Still ...</td>\n",
              "      <td>1</td>\n",
              "    </tr>\n",
              "    <tr>\n",
              "      <th>23</th>\n",
              "      <td>5</td>\n",
              "      <td>30-Jul-18</td>\n",
              "      <td>Charcoal Fabric</td>\n",
              "      <td>I love it. It plays my sleep sounds immediatel...</td>\n",
              "      <td>1</td>\n",
              "    </tr>\n",
              "    <tr>\n",
              "      <th>24</th>\n",
              "      <td>3</td>\n",
              "      <td>30-Jul-18</td>\n",
              "      <td>Sandstone Fabric</td>\n",
              "      <td>I got a second unit for the bedroom, I was exp...</td>\n",
              "      <td>1</td>\n",
              "    </tr>\n",
              "  </tbody>\n",
              "</table>\n",
              "</div>"
            ],
            "text/plain": [
              "    rating  ... feedback\n",
              "0        5  ...        1\n",
              "1        5  ...        1\n",
              "2        4  ...        1\n",
              "3        5  ...        1\n",
              "4        5  ...        1\n",
              "5        5  ...        1\n",
              "6        3  ...        1\n",
              "7        5  ...        1\n",
              "8        5  ...        1\n",
              "9        5  ...        1\n",
              "10       5  ...        1\n",
              "11       5  ...        1\n",
              "12       5  ...        1\n",
              "13       5  ...        1\n",
              "14       5  ...        1\n",
              "15       5  ...        1\n",
              "16       5  ...        1\n",
              "17       5  ...        1\n",
              "18       5  ...        1\n",
              "19       4  ...        1\n",
              "20       5  ...        1\n",
              "21       5  ...        1\n",
              "22       4  ...        1\n",
              "23       5  ...        1\n",
              "24       3  ...        1\n",
              "\n",
              "[25 rows x 5 columns]"
            ]
          },
          "metadata": {
            "tags": []
          },
          "execution_count": 4
        }
      ]
    },
    {
      "cell_type": "code",
      "metadata": {
        "id": "q4_wPDKCu5Uc",
        "colab": {
          "base_uri": "https://localhost:8080/"
        },
        "outputId": "537425df-f7fa-40f0-b75e-1e70d980781d"
      },
      "source": [
        "reviews_df.info()"
      ],
      "execution_count": 5,
      "outputs": [
        {
          "output_type": "stream",
          "text": [
            "<class 'pandas.core.frame.DataFrame'>\n",
            "RangeIndex: 3150 entries, 0 to 3149\n",
            "Data columns (total 5 columns):\n",
            " #   Column            Non-Null Count  Dtype \n",
            "---  ------            --------------  ----- \n",
            " 0   rating            3150 non-null   int64 \n",
            " 1   date              3150 non-null   object\n",
            " 2   variation         3150 non-null   object\n",
            " 3   verified_reviews  3150 non-null   object\n",
            " 4   feedback          3150 non-null   int64 \n",
            "dtypes: int64(2), object(3)\n",
            "memory usage: 123.2+ KB\n"
          ],
          "name": "stdout"
        }
      ]
    },
    {
      "cell_type": "code",
      "metadata": {
        "id": "RUt2ON_UxyYk",
        "colab": {
          "base_uri": "https://localhost:8080/",
          "height": 284
        },
        "outputId": "e6d107a9-9387-4f30-a206-d2437c140134"
      },
      "source": [
        "reviews_df.describe()\r\n",
        "#\r\n",
        "# File description shows ratings are mostly good, mean of 4.5\r\n",
        "#"
      ],
      "execution_count": 6,
      "outputs": [
        {
          "output_type": "execute_result",
          "data": {
            "text/html": [
              "<div>\n",
              "<style scoped>\n",
              "    .dataframe tbody tr th:only-of-type {\n",
              "        vertical-align: middle;\n",
              "    }\n",
              "\n",
              "    .dataframe tbody tr th {\n",
              "        vertical-align: top;\n",
              "    }\n",
              "\n",
              "    .dataframe thead th {\n",
              "        text-align: right;\n",
              "    }\n",
              "</style>\n",
              "<table border=\"1\" class=\"dataframe\">\n",
              "  <thead>\n",
              "    <tr style=\"text-align: right;\">\n",
              "      <th></th>\n",
              "      <th>rating</th>\n",
              "      <th>feedback</th>\n",
              "    </tr>\n",
              "  </thead>\n",
              "  <tbody>\n",
              "    <tr>\n",
              "      <th>count</th>\n",
              "      <td>3150.000000</td>\n",
              "      <td>3150.000000</td>\n",
              "    </tr>\n",
              "    <tr>\n",
              "      <th>mean</th>\n",
              "      <td>4.463175</td>\n",
              "      <td>0.918413</td>\n",
              "    </tr>\n",
              "    <tr>\n",
              "      <th>std</th>\n",
              "      <td>1.068506</td>\n",
              "      <td>0.273778</td>\n",
              "    </tr>\n",
              "    <tr>\n",
              "      <th>min</th>\n",
              "      <td>1.000000</td>\n",
              "      <td>0.000000</td>\n",
              "    </tr>\n",
              "    <tr>\n",
              "      <th>25%</th>\n",
              "      <td>4.000000</td>\n",
              "      <td>1.000000</td>\n",
              "    </tr>\n",
              "    <tr>\n",
              "      <th>50%</th>\n",
              "      <td>5.000000</td>\n",
              "      <td>1.000000</td>\n",
              "    </tr>\n",
              "    <tr>\n",
              "      <th>75%</th>\n",
              "      <td>5.000000</td>\n",
              "      <td>1.000000</td>\n",
              "    </tr>\n",
              "    <tr>\n",
              "      <th>max</th>\n",
              "      <td>5.000000</td>\n",
              "      <td>1.000000</td>\n",
              "    </tr>\n",
              "  </tbody>\n",
              "</table>\n",
              "</div>"
            ],
            "text/plain": [
              "            rating     feedback\n",
              "count  3150.000000  3150.000000\n",
              "mean      4.463175     0.918413\n",
              "std       1.068506     0.273778\n",
              "min       1.000000     0.000000\n",
              "25%       4.000000     1.000000\n",
              "50%       5.000000     1.000000\n",
              "75%       5.000000     1.000000\n",
              "max       5.000000     1.000000"
            ]
          },
          "metadata": {
            "tags": []
          },
          "execution_count": 6
        }
      ]
    },
    {
      "cell_type": "code",
      "metadata": {
        "id": "hMq3-KWOx0e1",
        "colab": {
          "base_uri": "https://localhost:8080/"
        },
        "outputId": "a937048a-4e09-47a5-b2e3-5d5ef33da267"
      },
      "source": [
        "reviews_df['verified_reviews']"
      ],
      "execution_count": 7,
      "outputs": [
        {
          "output_type": "execute_result",
          "data": {
            "text/plain": [
              "0                                           Love my Echo!\n",
              "1                                               Loved it!\n",
              "2       Sometimes while playing a game, you can answer...\n",
              "3       I have had a lot of fun with this thing. My 4 ...\n",
              "4                                                   Music\n",
              "                              ...                        \n",
              "3145    Perfect for kids, adults and everyone in betwe...\n",
              "3146    Listening to music, searching locations, check...\n",
              "3147    I do love these things, i have them running my...\n",
              "3148    Only complaint I have is that the sound qualit...\n",
              "3149                                                 Good\n",
              "Name: verified_reviews, Length: 3150, dtype: object"
            ]
          },
          "metadata": {
            "tags": []
          },
          "execution_count": 7
        }
      ]
    },
    {
      "cell_type": "code",
      "metadata": {
        "id": "0uwENWm__yoA"
      },
      "source": [
        ""
      ],
      "execution_count": null,
      "outputs": []
    },
    {
      "cell_type": "markdown",
      "metadata": {
        "id": "LlszUhNNyrl_"
      },
      "source": [
        "# TASK #3: EXPLORE DATASET"
      ]
    },
    {
      "cell_type": "code",
      "metadata": {
        "id": "504hnDW71Afb",
        "colab": {
          "base_uri": "https://localhost:8080/",
          "height": 283
        },
        "outputId": "15c8f5f2-db8d-46b9-cf81-c4e923972f09"
      },
      "source": [
        "#-----------------------------------------------------------------\r\n",
        "# Plot heatmap to see if there is any missing data\r\n",
        "#-----------------------------------------------------------------\r\n",
        "sns.heatmap(reviews_df.isnull(), yticklabels=False, cbar=False, cmap='Blues')\r\n",
        "#\r\n",
        "# No missing data :-)\r\n",
        "#"
      ],
      "execution_count": 8,
      "outputs": [
        {
          "output_type": "execute_result",
          "data": {
            "text/plain": [
              "<matplotlib.axes._subplots.AxesSubplot at 0x7f20f8898f60>"
            ]
          },
          "metadata": {
            "tags": []
          },
          "execution_count": 8
        },
        {
          "output_type": "display_data",
          "data": {
            "image/png": "[encoded data removed]",
            "text/plain": [
              "<Figure size 432x288 with 1 Axes>"
            ]
          },
          "metadata": {
            "tags": [],
            "needs_background": "light"
          }
        }
      ]
    },
    {
      "cell_type": "code",
      "metadata": {
        "id": "zflUg_k50qPy",
        "colab": {
          "base_uri": "https://localhost:8080/",
          "height": 386
        },
        "outputId": "f36951a3-4cc4-4606-f593-82d640082e06"
      },
      "source": [
        "#----------------------------------------------------------------------\r\n",
        "# Display Histogram of numerical fields in the dataframe\r\n",
        "#---------------------------------------------------------------------- \r\n",
        "reviews_df.hist(bins = 30, figsize=(13,5), color='red')\r\n",
        "#\r\n",
        "# Shows strong positive ratings\r\n",
        "#"
      ],
      "execution_count": 9,
      "outputs": [
        {
          "output_type": "execute_result",
          "data": {
            "text/plain": [
              "array([[<matplotlib.axes._subplots.AxesSubplot object at 0x7f20efa27ac8>,\n",
              "        <matplotlib.axes._subplots.AxesSubplot object at 0x7f20ef9d5c88>]],\n",
              "      dtype=object)"
            ]
          },
          "metadata": {
            "tags": []
          },
          "execution_count": 9
        },
        {
          "output_type": "display_data",
          "data": {
            "image/png": "[encoded data removed]",
            "text/plain": [
              "<Figure size 936x360 with 2 Axes>"
            ]
          },
          "metadata": {
            "tags": [],
            "needs_background": "light"
          }
        }
      ]
    },
    {
      "cell_type": "code",
      "metadata": {
        "id": "ZiVkQqEPMDDD",
        "colab": {
          "base_uri": "https://localhost:8080/",
          "height": 343
        },
        "outputId": "8f3dd5c8-f1d5-47bf-cd22-e1ac8aaa8cd0"
      },
      "source": [
        "#-----------------------------------------------------------------------\r\n",
        "# Show informatiomn about the text reviews\r\n",
        "#\r\n",
        "# 1. Add additional column for the length of the review\r\n",
        "#-----------------------------------------------------------------------\r\n",
        "reviews_df['length'] = reviews_df['verified_reviews'].apply(len)\r\n",
        "reviews_df.head(10)"
      ],
      "execution_count": 10,
      "outputs": [
        {
          "output_type": "execute_result",
          "data": {
            "text/html": [
              "<div>\n",
              "<style scoped>\n",
              "    .dataframe tbody tr th:only-of-type {\n",
              "        vertical-align: middle;\n",
              "    }\n",
              "\n",
              "    .dataframe tbody tr th {\n",
              "        vertical-align: top;\n",
              "    }\n",
              "\n",
              "    .dataframe thead th {\n",
              "        text-align: right;\n",
              "    }\n",
              "</style>\n",
              "<table border=\"1\" class=\"dataframe\">\n",
              "  <thead>\n",
              "    <tr style=\"text-align: right;\">\n",
              "      <th></th>\n",
              "      <th>rating</th>\n",
              "      <th>date</th>\n",
              "      <th>variation</th>\n",
              "      <th>verified_reviews</th>\n",
              "      <th>feedback</th>\n",
              "      <th>length</th>\n",
              "    </tr>\n",
              "  </thead>\n",
              "  <tbody>\n",
              "    <tr>\n",
              "      <th>0</th>\n",
              "      <td>5</td>\n",
              "      <td>31-Jul-18</td>\n",
              "      <td>Charcoal Fabric</td>\n",
              "      <td>Love my Echo!</td>\n",
              "      <td>1</td>\n",
              "      <td>13</td>\n",
              "    </tr>\n",
              "    <tr>\n",
              "      <th>1</th>\n",
              "      <td>5</td>\n",
              "      <td>31-Jul-18</td>\n",
              "      <td>Charcoal Fabric</td>\n",
              "      <td>Loved it!</td>\n",
              "      <td>1</td>\n",
              "      <td>9</td>\n",
              "    </tr>\n",
              "    <tr>\n",
              "      <th>2</th>\n",
              "      <td>4</td>\n",
              "      <td>31-Jul-18</td>\n",
              "      <td>Walnut Finish</td>\n",
              "      <td>Sometimes while playing a game, you can answer...</td>\n",
              "      <td>1</td>\n",
              "      <td>195</td>\n",
              "    </tr>\n",
              "    <tr>\n",
              "      <th>3</th>\n",
              "      <td>5</td>\n",
              "      <td>31-Jul-18</td>\n",
              "      <td>Charcoal Fabric</td>\n",
              "      <td>I have had a lot of fun with this thing. My 4 ...</td>\n",
              "      <td>1</td>\n",
              "      <td>172</td>\n",
              "    </tr>\n",
              "    <tr>\n",
              "      <th>4</th>\n",
              "      <td>5</td>\n",
              "      <td>31-Jul-18</td>\n",
              "      <td>Charcoal Fabric</td>\n",
              "      <td>Music</td>\n",
              "      <td>1</td>\n",
              "      <td>5</td>\n",
              "    </tr>\n",
              "    <tr>\n",
              "      <th>5</th>\n",
              "      <td>5</td>\n",
              "      <td>31-Jul-18</td>\n",
              "      <td>Heather Gray Fabric</td>\n",
              "      <td>I received the echo as a gift. I needed anothe...</td>\n",
              "      <td>1</td>\n",
              "      <td>172</td>\n",
              "    </tr>\n",
              "    <tr>\n",
              "      <th>6</th>\n",
              "      <td>3</td>\n",
              "      <td>31-Jul-18</td>\n",
              "      <td>Sandstone Fabric</td>\n",
              "      <td>Without having a cellphone, I cannot use many ...</td>\n",
              "      <td>1</td>\n",
              "      <td>365</td>\n",
              "    </tr>\n",
              "    <tr>\n",
              "      <th>7</th>\n",
              "      <td>5</td>\n",
              "      <td>31-Jul-18</td>\n",
              "      <td>Charcoal Fabric</td>\n",
              "      <td>I think this is the 5th one I've purchased. I'...</td>\n",
              "      <td>1</td>\n",
              "      <td>221</td>\n",
              "    </tr>\n",
              "    <tr>\n",
              "      <th>8</th>\n",
              "      <td>5</td>\n",
              "      <td>30-Jul-18</td>\n",
              "      <td>Heather Gray Fabric</td>\n",
              "      <td>looks great</td>\n",
              "      <td>1</td>\n",
              "      <td>11</td>\n",
              "    </tr>\n",
              "    <tr>\n",
              "      <th>9</th>\n",
              "      <td>5</td>\n",
              "      <td>30-Jul-18</td>\n",
              "      <td>Heather Gray Fabric</td>\n",
              "      <td>Love it! I’ve listened to songs I haven’t hear...</td>\n",
              "      <td>1</td>\n",
              "      <td>114</td>\n",
              "    </tr>\n",
              "  </tbody>\n",
              "</table>\n",
              "</div>"
            ],
            "text/plain": [
              "   rating       date  ... feedback length\n",
              "0       5  31-Jul-18  ...        1     13\n",
              "1       5  31-Jul-18  ...        1      9\n",
              "2       4  31-Jul-18  ...        1    195\n",
              "3       5  31-Jul-18  ...        1    172\n",
              "4       5  31-Jul-18  ...        1      5\n",
              "5       5  31-Jul-18  ...        1    172\n",
              "6       3  31-Jul-18  ...        1    365\n",
              "7       5  31-Jul-18  ...        1    221\n",
              "8       5  30-Jul-18  ...        1     11\n",
              "9       5  30-Jul-18  ...        1    114\n",
              "\n",
              "[10 rows x 6 columns]"
            ]
          },
          "metadata": {
            "tags": []
          },
          "execution_count": 10
        }
      ]
    },
    {
      "cell_type": "code",
      "metadata": {
        "id": "RYLqq7WetK79",
        "colab": {
          "base_uri": "https://localhost:8080/",
          "height": 282
        },
        "outputId": "c418680a-e684-433c-b244-ff284b1e640f"
      },
      "source": [
        "#---------------------------------------------------------------\r\n",
        "# Plot Histogram for Length of reviews\r\n",
        "#---------------------------------------------------------------\r\n",
        "reviews_df['length'].plot(bins=100, kind='hist', color='blue')\r\n",
        "#\r\n",
        "# Most reviews are relatively short\r\n",
        "#"
      ],
      "execution_count": 11,
      "outputs": [
        {
          "output_type": "execute_result",
          "data": {
            "text/plain": [
              "<matplotlib.axes._subplots.AxesSubplot at 0x7f20ef8ae860>"
            ]
          },
          "metadata": {
            "tags": []
          },
          "execution_count": 11
        },
        {
          "output_type": "display_data",
          "data": {
            "image/png": "[encoded data removed]",
            "text/plain": [
              "<Figure size 432x288 with 1 Axes>"
            ]
          },
          "metadata": {
            "tags": [],
            "needs_background": "light"
          }
        }
      ]
    },
    {
      "cell_type": "code",
      "metadata": {
        "id": "bf22hdT0KFVs",
        "colab": {
          "base_uri": "https://localhost:8080/"
        },
        "outputId": "97601865-e131-4714-bdaa-194c26d252a7"
      },
      "source": [
        "#---------------------------------------------------------\r\n",
        "# Display the following:\r\n",
        "#\r\n",
        "# 1. Review with the shorted review length\r\n",
        "# 2. Review with the longest review length\r\n",
        "# 3. Review(s) with the mean review length\r\n",
        "#---------------------------------------------------------\r\n",
        "reviews_df.length.describe()"
      ],
      "execution_count": 44,
      "outputs": [
        {
          "output_type": "execute_result",
          "data": {
            "text/plain": [
              "count    3150.000000\n",
              "mean      132.049524\n",
              "std       182.099952\n",
              "min         1.000000\n",
              "25%        30.000000\n",
              "50%        74.000000\n",
              "75%       165.000000\n",
              "max      2851.000000\n",
              "Name: length, dtype: float64"
            ]
          },
          "metadata": {
            "tags": []
          },
          "execution_count": 44
        }
      ]
    },
    {
      "cell_type": "code",
      "metadata": {
        "colab": {
          "base_uri": "https://localhost:8080/",
          "height": 120
        },
        "id": "gmqzIBz6mR0V",
        "outputId": "76d05ee7-d069-4c81-d6ae-c9f96a4959f8"
      },
      "source": [
        "#\r\n",
        "# 1. Longest\r\n",
        "#\r\n",
        "longest_review = max(reviews_df['length'])\r\n",
        "reviews_df[reviews_df['length'] == max(reviews_df['length'])]['verified_reviews'].iloc[0]"
      ],
      "execution_count": 41,
      "outputs": [
        {
          "output_type": "execute_result",
          "data": {
            "application/vnd.google.colaboratory.intrinsic+json": {
              "type": "string"
            },
            "text/plain": [
              "\"Incredible piece of technology.I have this right center of my living room on an island kitchen counter. The mic and speaker goes in every direction and the quality of the sound is quite good. I connected the Echo via Bluetooth to my Sony soundbar on my TV but find the Echo placement and 360 sound more appealing. It's no audiophile equipment but there is good range and decent bass. The sound is more than adequate for any indoor entertaining and loud enough to bother neighbors in my building. The knob on the top works great for adjusting volume. This is my first Echo device and I would imagine having to press volume buttons (on the Echo 2) a large inconvenience and not as precise. For that alone I would recommend this over the regular Echo (2nd generation).The piece looks quality and is quite sturdy with some weight on it. The rubber material on the bottom has a good grip on the granite counter-- my cat can even rub her scent on it without tipping it over.This order came with a free Philips Hue Bulb which I installed along with an extra one I bought. I put the 2 bulbs into my living room floor lamp, turned on the light, and all I had to do was say &#34;Alexa, connect my devices&#34;. The default names for each bulb was assigned as &#34;First light&#34; and &#34;Second light&#34;, so I can have a dimmer floor lamp if I just turned on/off one of the lights by saying &#34;Alexa, turn off the second light&#34;. In the Alexa app, I created a 'Group' with &#34;First light&#34; and &#34;Second light&#34; and named the group &#34;The light&#34;, so to turn on the lamp with both bulbs shining I just say &#34;Alexa, turn on The light&#34;.I was surprised how easily the bulbs connected to the Echo Plus with its built in hub. I thought I would have to buy a hub bridge to connect to my floor lamp power plug. Apparently there is some technology built directly inside the bulb! I was surprised by that. Awesome.You will feel like Tony Stark on this device. I added quite a few &#34;Skills&#34; like 'Thunderstorm sounds' and 'Quote of the day' . Alexa always loads them up quickly. Adding songs that you hear to specific playlists on Amazon Music is also a great feature.I can go on and on and this is only my second day of ownership.I was lucky to buy this for $100 on Prime Day, but I think for $150 is it pretty expensive considering the Echo 2 is only $100. In my opinion, you will be paying a premium for the Echo Plus and you have to decide if the value is there for you:1) Taller and 360 sound unit.2) Volume knob on top that you spin (I think this is a huge benefit over buttons)3) Built in hub for Hue bulbs. After researching more, there are some cons to this setup if you plan on having more advanced light setups. For me and my floor lamp, it's just perfect.I highly recommend it and will buy an Echo dot for my bedroom now.\""
            ]
          },
          "metadata": {
            "tags": []
          },
          "execution_count": 41
        }
      ]
    },
    {
      "cell_type": "code",
      "metadata": {
        "colab": {
          "base_uri": "https://localhost:8080/",
          "height": 35
        },
        "id": "JPMInMM5mRir",
        "outputId": "977b461d-18df-47e0-b896-477602c0f2a6"
      },
      "source": [
        "#\r\n",
        "# 2. Shortest\r\n",
        "#\r\n",
        "shortest_review = min(reviews_df['length'])\r\n",
        "reviews_df[reviews_df['length'] == min(reviews_df['length'])]['verified_reviews'].iloc[0]"
      ],
      "execution_count": 42,
      "outputs": [
        {
          "output_type": "execute_result",
          "data": {
            "application/vnd.google.colaboratory.intrinsic+json": {
              "type": "string"
            },
            "text/plain": [
              "'😍'"
            ]
          },
          "metadata": {
            "tags": []
          },
          "execution_count": 42
        }
      ]
    },
    {
      "cell_type": "code",
      "metadata": {
        "colab": {
          "base_uri": "https://localhost:8080/",
          "height": 35
        },
        "id": "V9jw6cMojZiq",
        "outputId": "4ec426a4-e6fc-4196-8a23-fd5c8f2e2f35"
      },
      "source": [
        "#\r\n",
        "# 3. Average\r\n",
        "#\r\n",
        "avg_review = 132\r\n",
        "reviews_df[reviews_df['length'] == avg_review]['verified_reviews'].iloc[0]\r\n"
      ],
      "execution_count": 46,
      "outputs": [
        {
          "output_type": "execute_result",
          "data": {
            "application/vnd.google.colaboratory.intrinsic+json": {
              "type": "string"
            },
            "text/plain": [
              "'Nice. It works good.Some times is not easy to recognize your voice and you have to repeat several times, some time almost screaming.'"
            ]
          },
          "metadata": {
            "tags": []
          },
          "execution_count": 46
        }
      ]
    },
    {
      "cell_type": "code",
      "metadata": {
        "id": "OJdJspaWKJYj",
        "colab": {
          "base_uri": "https://localhost:8080/"
        },
        "outputId": "794a0d95-dad2-4afc-c968-9999bd740e66"
      },
      "source": [
        "print (review_longest)"
      ],
      "execution_count": 23,
      "outputs": [
        {
          "output_type": "stream",
          "text": [
            "0       NaN\n",
            "1       NaN\n",
            "2       NaN\n",
            "3       NaN\n",
            "4       NaN\n",
            "       ... \n",
            "3145    NaN\n",
            "3146    NaN\n",
            "3147    NaN\n",
            "3148    NaN\n",
            "3149    NaN\n",
            "Name: verified_reviews, Length: 3150, dtype: object\n"
          ],
          "name": "stdout"
        }
      ]
    },
    {
      "cell_type": "code",
      "metadata": {
        "id": "NECH94w1KSpS"
      },
      "source": [
        ""
      ],
      "execution_count": null,
      "outputs": []
    },
    {
      "cell_type": "code",
      "metadata": {
        "id": "V9cjJVlzKWBZ"
      },
      "source": [
        ""
      ],
      "execution_count": null,
      "outputs": []
    },
    {
      "cell_type": "code",
      "metadata": {
        "id": "5d38HsgdA3LA"
      },
      "source": [
        ""
      ],
      "execution_count": null,
      "outputs": []
    },
    {
      "cell_type": "code",
      "metadata": {
        "id": "cv3wJuaEBNaX"
      },
      "source": [
        ""
      ],
      "execution_count": null,
      "outputs": []
    },
    {
      "cell_type": "code",
      "metadata": {
        "id": "tQVHiaOUBSZB"
      },
      "source": [
        ""
      ],
      "execution_count": null,
      "outputs": []
    },
    {
      "cell_type": "code",
      "metadata": {
        "id": "NcZCLurpBT9-"
      },
      "source": [
        ""
      ],
      "execution_count": null,
      "outputs": []
    },
    {
      "cell_type": "code",
      "metadata": {
        "id": "JRYMHBHIBXxX"
      },
      "source": [
        ""
      ],
      "execution_count": null,
      "outputs": []
    },
    {
      "cell_type": "code",
      "metadata": {
        "id": "N3zVLgwoBhBO"
      },
      "source": [
        ""
      ],
      "execution_count": null,
      "outputs": []
    },
    {
      "cell_type": "code",
      "metadata": {
        "id": "XqVLa2oLBjKA"
      },
      "source": [
        ""
      ],
      "execution_count": null,
      "outputs": []
    },
    {
      "cell_type": "code",
      "metadata": {
        "id": "UlI-uj97BtdU"
      },
      "source": [
        ""
      ],
      "execution_count": null,
      "outputs": []
    },
    {
      "cell_type": "code",
      "metadata": {
        "id": "gPBOCIbxCCKE"
      },
      "source": [
        "\n"
      ],
      "execution_count": null,
      "outputs": []
    },
    {
      "cell_type": "code",
      "metadata": {
        "id": "DyPWs7M6CTUd"
      },
      "source": [
        ""
      ],
      "execution_count": null,
      "outputs": []
    },
    {
      "cell_type": "code",
      "metadata": {
        "id": "4V3vfaX9Cbgr"
      },
      "source": [
        ""
      ],
      "execution_count": null,
      "outputs": []
    },
    {
      "cell_type": "code",
      "metadata": {
        "id": "YjHQTPniCdmO"
      },
      "source": [
        ""
      ],
      "execution_count": null,
      "outputs": []
    },
    {
      "cell_type": "code",
      "metadata": {
        "id": "Gl8w3IVkCgNS"
      },
      "source": [
        ""
      ],
      "execution_count": null,
      "outputs": []
    },
    {
      "cell_type": "code",
      "metadata": {
        "id": "2GVjDXBFCK7_"
      },
      "source": [
        ""
      ],
      "execution_count": null,
      "outputs": []
    },
    {
      "cell_type": "markdown",
      "metadata": {
        "id": "3B-cjhuCCxNc"
      },
      "source": [
        "# TASK #4: PERFORM DATA CLEANING"
      ]
    },
    {
      "cell_type": "markdown",
      "metadata": {
        "id": "Y0GmpAjG3GiH"
      },
      "source": [
        "# TASK #5: LEARN HOW TO REMOVE PUNCTUATION FROM TEXT"
      ]
    },
    {
      "cell_type": "markdown",
      "metadata": {
        "id": "78wsji1HPWW3"
      },
      "source": [
        "# TASK 6: UNDERSTAND HOW TO REMOVE STOPWORDS"
      ]
    },
    {
      "cell_type": "markdown",
      "metadata": {
        "id": "7Kxb4M0pRBkU"
      },
      "source": [
        "# TASK 7: UNDERSTAND HOW TO PERFORM COUNT VECTORIZATION (TOKENIZATION)"
      ]
    },
    {
      "cell_type": "markdown",
      "metadata": {
        "id": "Pw-7GNN5SbRK"
      },
      "source": [
        "![alt text](https://drive.google.com/uc?id=1eQi-Gq66e-sNw1ZvGs-zkJg95mCYdFoJ)"
      ]
    },
    {
      "cell_type": "markdown",
      "metadata": {
        "id": "2geMzGITbZPJ"
      },
      "source": [
        "# TASK #8: PERFORM DATA CLEANING BY APPLYING EVERYTHING WE LEARNED SO FAR!"
      ]
    },
    {
      "cell_type": "code",
      "metadata": {
        "id": "WHJnbIDeSmlm"
      },
      "source": [
        "# Let's define a pipeline to clean up all the messages \n",
        "# The pipeline performs the following: (1) remove punctuation, (2) remove stopwords\n",
        "\n"
      ],
      "execution_count": null,
      "outputs": []
    },
    {
      "cell_type": "code",
      "metadata": {
        "id": "TxAYpIXXSmoZ"
      },
      "source": [
        "# Let's test the newly added function\n"
      ],
      "execution_count": null,
      "outputs": []
    },
    {
      "cell_type": "code",
      "metadata": {
        "id": "DXnYj4Q8SmrH"
      },
      "source": [
        ""
      ],
      "execution_count": null,
      "outputs": []
    },
    {
      "cell_type": "code",
      "metadata": {
        "id": "ygy78EHZTGTD"
      },
      "source": [
        ""
      ],
      "execution_count": null,
      "outputs": []
    },
    {
      "cell_type": "code",
      "metadata": {
        "id": "tdjecmbcEInE"
      },
      "source": [
        ""
      ],
      "execution_count": null,
      "outputs": []
    },
    {
      "cell_type": "markdown",
      "metadata": {
        "id": "kyKsQmFUeqaL"
      },
      "source": [
        "# TASK #9: UNDERSTAND THE THEORY AND INTUITION BEHIND NAIVE BAYES"
      ]
    },
    {
      "cell_type": "markdown",
      "metadata": {
        "id": "3Tp6tO2RM3X_"
      },
      "source": [
        "![alt text](https://drive.google.com/uc?id=1Xox54bvjhGOhrG-fSxEUIEgw1R3g-RIt)"
      ]
    },
    {
      "cell_type": "markdown",
      "metadata": {
        "id": "efQnOK3FSmqc"
      },
      "source": [
        "![alt text](https://drive.google.com/uc?id=18Z4ug4UuyQG79lyPKs1zQwtrP_S4_yoU)"
      ]
    },
    {
      "cell_type": "markdown",
      "metadata": {
        "id": "6I_p6OG4Ssi6"
      },
      "source": [
        "![alt text](https://drive.google.com/uc?id=1sVLtg8GaE3ZhNEZX1WJbxs7KAQyQ5dpX)"
      ]
    },
    {
      "cell_type": "markdown",
      "metadata": {
        "id": "H7hVYQkESxj4"
      },
      "source": [
        "![alt text](https://drive.google.com/uc?id=1NT6Fm-lWUWNsu9i8uzVS4Q5pcm5gp8RK)"
      ]
    },
    {
      "cell_type": "markdown",
      "metadata": {
        "id": "3At5f5YTS5gy"
      },
      "source": [
        "![alt text](https://drive.google.com/uc?id=1C32q5Uguymr9012x1lzRD5btnvJ-kW9r)"
      ]
    },
    {
      "cell_type": "markdown",
      "metadata": {
        "id": "OuXDkIfNTAAg"
      },
      "source": [
        "![alt text](https://drive.google.com/uc?id=1g5aXo5E-RIjRBy6-LLLA8gjG2j9dIL5X)"
      ]
    },
    {
      "cell_type": "markdown",
      "metadata": {
        "id": "i8G7mkW1M3V7"
      },
      "source": [
        "![alt text](https://drive.google.com/uc?id=106OXP_z89Hqh1JYVaROIbst0N0CgFRuT)"
      ]
    },
    {
      "cell_type": "markdown",
      "metadata": {
        "id": "4U-4C8BTM6yp"
      },
      "source": [
        "![alt text](https://drive.google.com/uc?id=1AXTHZ9KVUsJjMm9Whc4Adi5T4OznsSYn)"
      ]
    },
    {
      "cell_type": "markdown",
      "metadata": {
        "id": "jIVxZdZ1USAz"
      },
      "source": [
        "# TASK #10: TRAIN A NAIVE BAYES CLASSIFIER MODEL"
      ]
    },
    {
      "cell_type": "markdown",
      "metadata": {
        "id": "uO-AtlgRVoVX"
      },
      "source": [
        "# TASK #11: ASSESS TRAINED MODEL PERFORMANCE  "
      ]
    },
    {
      "cell_type": "markdown",
      "metadata": {
        "id": "GLzyH63ANAEp"
      },
      "source": [
        "![alt text](https://drive.google.com/uc?id=14_ft6Wiu-VaiU_5Ew2nS7EGGr3oLLQf8)"
      ]
    },
    {
      "cell_type": "markdown",
      "metadata": {
        "id": "otudfveOME9P"
      },
      "source": [
        "# TASK #12: ASSIGNMENT - TRAIN AND EVALUATE A LOGISTIC REGRESSION CLASSIFIER"
      ]
    },
    {
      "cell_type": "markdown",
      "metadata": {
        "id": "27OgYEJu9EFV"
      },
      "source": [
        "# EXCELLENT JOB! YOU SHOULD BE PROUD OF YOUR NEWLY ACQUIRED SKILLS"
      ]
    }
  ]
}